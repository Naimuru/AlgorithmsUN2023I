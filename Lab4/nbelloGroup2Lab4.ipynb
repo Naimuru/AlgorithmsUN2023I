{
  "nbformat": 4,
  "nbformat_minor": 0,
  "metadata": {
    "colab": {
      "provenance": []
    },
    "kernelspec": {
      "name": "python3",
      "display_name": "Python 3"
    },
    "language_info": {
      "name": "python"
    }
  },
  "cells": [
    {
      "cell_type": "markdown",
      "metadata": {
        "id": "N1ok_-56OjB1"
      },
      "source": [
        "# I Solving the Sum of Two Digits Programming Challenge"
      ]
    },
    {
      "cell_type": "markdown",
      "metadata": {
        "id": "MMY7kmDSO0KM"
      },
      "source": [
        "## C++"
      ]
    },
    {
      "cell_type": "code",
      "metadata": {
        "colab": {
          "base_uri": "https://localhost:8080/"
        },
        "id": "2pGGf9BkPNIk",
        "outputId": "30ab83c1-bace-4c95-fbdd-e881448aff8b"
      },
      "source": [
        "%%writefile APlusB.cpp\n",
        "#include <iostream>\n",
        "\n",
        "int sum_of_two_digits(int first_digit, int second_digit) {\n",
        "    return first_digit + second_digit;\n",
        "}\n",
        "\n",
        "int main() {\n",
        "    int a = 0;\n",
        "    int b = 0;\n",
        "    std::cin >> a;\n",
        "    std::cin >> b;\n",
        "    std::cout << sum_of_two_digits(a, b);\n",
        "    return 0;\n",
        "}"
      ],
      "execution_count": 1,
      "outputs": [
        {
          "output_type": "stream",
          "name": "stdout",
          "text": [
            "Writing APlusB.cpp\n"
          ]
        }
      ]
    },
    {
      "cell_type": "code",
      "metadata": {
        "colab": {
          "base_uri": "https://localhost:8080/"
        },
        "id": "0G3ZKOYAPXSU",
        "outputId": "877f9b12-2c97-4b42-90a6-f411726f7687"
      },
      "source": [
        "!g++ APlusB.cpp -o APlusB \n",
        "!./APlusB"
      ],
      "execution_count": 2,
      "outputs": [
        {
          "output_type": "stream",
          "name": "stdout",
          "text": [
            "3\n",
            "4\n",
            "7"
          ]
        }
      ]
    },
    {
      "cell_type": "markdown",
      "metadata": {
        "id": "iNkG2HqfTl9c"
      },
      "source": [
        "### Test input output files"
      ]
    },
    {
      "cell_type": "code",
      "metadata": {
        "colab": {
          "base_uri": "https://localhost:8080/"
        },
        "id": "aTzU2efzMxly",
        "outputId": "f7b5f17f-4bc8-4159-830e-68b8a9cbe880"
      },
      "source": [
        "%%writefile input1.txt\n",
        "4 8"
      ],
      "execution_count": 3,
      "outputs": [
        {
          "output_type": "stream",
          "name": "stdout",
          "text": [
            "Writing input1.txt\n"
          ]
        }
      ]
    },
    {
      "cell_type": "markdown",
      "metadata": {
        "id": "pdkfsvs-T0Wr"
      },
      "source": []
    },
    {
      "cell_type": "code",
      "metadata": {
        "colab": {
          "base_uri": "https://localhost:8080/"
        },
        "id": "zBJ0Gc0NQRet",
        "outputId": "e4d5a566-2a97-4f57-da1e-d63eb536c1e3"
      },
      "source": [
        "%%writefile output1.txt\n",
        "12"
      ],
      "execution_count": 4,
      "outputs": [
        {
          "output_type": "stream",
          "name": "stdout",
          "text": [
            "Writing output1.txt\n"
          ]
        }
      ]
    },
    {
      "cell_type": "code",
      "metadata": {
        "colab": {
          "base_uri": "https://localhost:8080/"
        },
        "id": "IjEcIx63PJAN",
        "outputId": "e5dabe4d-887f-4d24-df5a-b078c656830b"
      },
      "source": [
        "%%writefile input2.txt\n",
        "-5 9"
      ],
      "execution_count": 5,
      "outputs": [
        {
          "output_type": "stream",
          "name": "stdout",
          "text": [
            "Writing input2.txt\n"
          ]
        }
      ]
    },
    {
      "cell_type": "code",
      "metadata": {
        "colab": {
          "base_uri": "https://localhost:8080/"
        },
        "id": "Up9gOrxURTmd",
        "outputId": "9e334944-6d00-4518-c19d-1d48749733d6"
      },
      "source": [
        "%%writefile output2.txt\n",
        "4"
      ],
      "execution_count": 6,
      "outputs": [
        {
          "output_type": "stream",
          "name": "stdout",
          "text": [
            "Writing output2.txt\n"
          ]
        }
      ]
    },
    {
      "cell_type": "code",
      "metadata": {
        "colab": {
          "base_uri": "https://localhost:8080/"
        },
        "id": "PST6G-s-Pwgc",
        "outputId": "868d0b59-6396-4255-cd0f-efbabb76344f"
      },
      "source": [
        "!./APlusB < input1.txt"
      ],
      "execution_count": 7,
      "outputs": [
        {
          "output_type": "stream",
          "name": "stdout",
          "text": [
            "12"
          ]
        }
      ]
    },
    {
      "cell_type": "code",
      "metadata": {
        "colab": {
          "base_uri": "https://localhost:8080/"
        },
        "id": "cKxZOjSlRfIN",
        "outputId": "d752a2b9-75c3-423d-b12a-f178f2c8c46c"
      },
      "source": [
        "!./APlusB < input2.txt"
      ],
      "execution_count": 8,
      "outputs": [
        {
          "output_type": "stream",
          "name": "stdout",
          "text": [
            "4"
          ]
        }
      ]
    },
    {
      "cell_type": "markdown",
      "metadata": {
        "id": "Qw2TQWCCUwqk"
      },
      "source": [
        "### Comparing files with grep\n",
        "\n",
        "https://askubuntu.com/questions/546796/comparing-two-text-files"
      ]
    },
    {
      "cell_type": "code",
      "metadata": {
        "id": "WVIaAmMKU4QM"
      },
      "source": [
        "!grep -xvFf output1.txt output1.txt "
      ],
      "execution_count": 9,
      "outputs": []
    },
    {
      "cell_type": "code",
      "metadata": {
        "colab": {
          "base_uri": "https://localhost:8080/"
        },
        "id": "MQU8gPPjQuYO",
        "outputId": "ec7288a7-1795-4cc4-99e5-f9aa8ea0a5c4"
      },
      "source": [
        "!grep -xvFf output1.txt output2.txt "
      ],
      "execution_count": 10,
      "outputs": [
        {
          "output_type": "stream",
          "name": "stdout",
          "text": [
            "4\n"
          ]
        }
      ]
    },
    {
      "cell_type": "code",
      "metadata": {
        "colab": {
          "base_uri": "https://localhost:8080/"
        },
        "id": "jYL9OuYBTD_l",
        "outputId": "844fd42e-fa8b-4564-ba43-d0c02069d121"
      },
      "source": [
        "!grep -xvFf output2.txt output1.txt "
      ],
      "execution_count": 11,
      "outputs": [
        {
          "output_type": "stream",
          "name": "stdout",
          "text": [
            "12\n"
          ]
        }
      ]
    },
    {
      "cell_type": "code",
      "metadata": {
        "id": "Jlja0Xm4TX9M"
      },
      "source": [
        "!./APlusB < input1.txt> ctest1.txt\n",
        "!grep -xvFf output1.txt ctest1.txt"
      ],
      "execution_count": 12,
      "outputs": []
    },
    {
      "cell_type": "code",
      "metadata": {
        "id": "g9OIUZA_QLCQ"
      },
      "source": [
        "!./APlusB < input2.txt > ctest2.txt\n",
        "!grep -xvFf output2.txt ctest2.txt"
      ],
      "execution_count": 13,
      "outputs": []
    },
    {
      "cell_type": "markdown",
      "metadata": {
        "id": "3BgOaDjUVJk6"
      },
      "source": [
        "## Python"
      ]
    },
    {
      "cell_type": "code",
      "metadata": {
        "colab": {
          "base_uri": "https://localhost:8080/"
        },
        "id": "DBvl-T0CTN_8",
        "outputId": "d13eddbc-09ab-4cf7-cf38-a305797442b2"
      },
      "source": [
        "%%writefile sum.py\n",
        "# python3\n",
        "\n",
        "def sum_of_two_digits(first_digit, second_digit):\n",
        "    return first_digit + second_digit\n",
        "\n",
        "if __name__ == '__main__':\n",
        "    a, b = map(int, input().split())\n",
        "    print(sum_of_two_digits(a, b))"
      ],
      "execution_count": 14,
      "outputs": [
        {
          "output_type": "stream",
          "name": "stdout",
          "text": [
            "Writing sum.py\n"
          ]
        }
      ]
    },
    {
      "cell_type": "code",
      "metadata": {
        "colab": {
          "base_uri": "https://localhost:8080/"
        },
        "id": "QKoKM11_WGyF",
        "outputId": "f3d31492-3781-4da6-9d53-f8c9f3f2314f"
      },
      "source": [
        "!python sum.py"
      ],
      "execution_count": 16,
      "outputs": [
        {
          "output_type": "stream",
          "name": "stdout",
          "text": [
            "90 13\n",
            "103\n"
          ]
        }
      ]
    },
    {
      "cell_type": "code",
      "metadata": {
        "id": "cocFbPRTWrqt"
      },
      "source": [
        "!python sum.py  < input1.txt> ptest1.txt\n",
        "!grep -xvFf output1.txt ptest1.txt"
      ],
      "execution_count": 17,
      "outputs": []
    },
    {
      "cell_type": "code",
      "metadata": {
        "id": "MorKTa-XXASN"
      },
      "source": [
        "!python sum.py  < input2.txt> ptest2.txt\n",
        "!grep -xvFf output2.txt ptest2.txt"
      ],
      "execution_count": 18,
      "outputs": []
    },
    {
      "cell_type": "markdown",
      "metadata": {
        "id": "uvP-mOubW_5F"
      },
      "source": [
        "# II Solving The Maximum Pairwise Product Programming Challenge in C++"
      ]
    },
    {
      "cell_type": "markdown",
      "metadata": {
        "id": "C12yoFR6Xonl"
      },
      "source": [
        "## C++"
      ]
    },
    {
      "cell_type": "code",
      "metadata": {
        "colab": {
          "base_uri": "https://localhost:8080/"
        },
        "id": "YL4qJX3tXxdd",
        "outputId": "66e8f0fa-0e03-4001-ac07-722d91d3f150"
      },
      "source": [
        "%%writefile max_pairwise_product.cpp\n",
        "#include <iostream>\n",
        "#include <vector>\n",
        "#include <algorithm>\n",
        "\n",
        "int MaxPairwiseProduct(const std::vector<int>& numbers) {\n",
        "    int max_product = 0;\n",
        "    int n = numbers.size();\n",
        "\n",
        "    for (int first = 0; first < n; ++first) {\n",
        "        for (int second = first + 1; second < n; ++second) {\n",
        "            max_product = std::max(max_product,\n",
        "                numbers[first] * numbers[second]);\n",
        "        }\n",
        "    }\n",
        "\n",
        "    return max_product;\n",
        "}\n",
        "\n",
        "int main() {\n",
        "    int n;\n",
        "    std::cin >> n;\n",
        "    std::vector<int> numbers(n);\n",
        "    for (int i = 0; i < n; ++i) {\n",
        "        std::cin >> numbers[i];\n",
        "    }\n",
        "\n",
        "    std::cout << MaxPairwiseProduct(numbers) << \"\\n\";\n",
        "    return 0;\n",
        "}\n"
      ],
      "execution_count": 19,
      "outputs": [
        {
          "output_type": "stream",
          "name": "stdout",
          "text": [
            "Writing max_pairwise_product.cpp\n"
          ]
        }
      ]
    },
    {
      "cell_type": "code",
      "metadata": {
        "colab": {
          "base_uri": "https://localhost:8080/"
        },
        "id": "KGxaEjvWX__O",
        "outputId": "0e2710ec-d1ff-437c-da22-8f4b5978ecd8"
      },
      "source": [
        "!g++ max_pairwise_product.cpp -o max_pairwise_product\n",
        "!./max_pairwise_product"
      ],
      "execution_count": 20,
      "outputs": [
        {
          "output_type": "stream",
          "name": "stdout",
          "text": [
            "3\n",
            "5\n",
            "6\n",
            "1\n",
            "30\n"
          ]
        }
      ]
    },
    {
      "cell_type": "markdown",
      "metadata": {
        "id": "e7KhxHGNS3i0"
      },
      "source": [
        "### Test 1: Small numbers"
      ]
    },
    {
      "cell_type": "code",
      "metadata": {
        "colab": {
          "base_uri": "https://localhost:8080/"
        },
        "id": "e1mmTzBgShT-",
        "outputId": "681ca1a7-42bf-4f4b-a764-d1f423ea0e24"
      },
      "source": [
        "%%writefile input1.txt\n",
        "10\n",
        "1 2 3 4 5 6 7 8 9 10"
      ],
      "execution_count": 21,
      "outputs": [
        {
          "output_type": "stream",
          "name": "stdout",
          "text": [
            "Overwriting input1.txt\n"
          ]
        }
      ]
    },
    {
      "cell_type": "code",
      "metadata": {
        "colab": {
          "base_uri": "https://localhost:8080/"
        },
        "id": "vy_uI0x7TCId",
        "outputId": "6ec6f264-f20e-4e53-d05c-39a612442da9"
      },
      "source": [
        "!./max_pairwise_product < input1.txt"
      ],
      "execution_count": 22,
      "outputs": [
        {
          "output_type": "stream",
          "name": "stdout",
          "text": [
            "90\n"
          ]
        }
      ]
    },
    {
      "cell_type": "markdown",
      "metadata": {
        "id": "IeZ3kTjpYmR9"
      },
      "source": [
        "### Test 2: largest input numbers 200000 200000 in the input"
      ]
    },
    {
      "cell_type": "code",
      "metadata": {
        "colab": {
          "base_uri": "https://localhost:8080/"
        },
        "id": "LQNlZqaqYt7U",
        "outputId": "e847faf2-5d71-4871-f5fe-837d23de9526"
      },
      "source": [
        "%%writefile input2.txt\n",
        "6\n",
        "1 3 200000 9 200000 23"
      ],
      "execution_count": 23,
      "outputs": [
        {
          "output_type": "stream",
          "name": "stdout",
          "text": [
            "Overwriting input2.txt\n"
          ]
        }
      ]
    },
    {
      "cell_type": "code",
      "metadata": {
        "colab": {
          "base_uri": "https://localhost:8080/"
        },
        "id": "2Wad2VZUZDxR",
        "outputId": "8462a0ee-19ae-4510-ef4d-9daea36244f9"
      },
      "source": [
        "!./max_pairwise_product < input2.txt"
      ],
      "execution_count": 24,
      "outputs": [
        {
          "output_type": "stream",
          "name": "stdout",
          "text": [
            "1345294336\n"
          ]
        }
      ]
    },
    {
      "cell_type": "markdown",
      "metadata": {
        "id": "H2SC0Qt5HCzz"
      },
      "source": [
        "Changing the variables to long long"
      ]
    },
    {
      "cell_type": "code",
      "metadata": {
        "colab": {
          "base_uri": "https://localhost:8080/"
        },
        "id": "MPcmsxiQZSfE",
        "outputId": "83a248b1-16a9-499a-ba1e-e51555378cdd"
      },
      "source": [
        "%%writefile max_pairwise_product_long.cpp\n",
        "#include <iostream>\n",
        "#include <vector>\n",
        "#include <algorithm>\n",
        "\n",
        "long long MaxPairwiseProduct(const std::vector<int>& numbers) {\n",
        "    long long max_product = 0LL;\n",
        "\t  long long aux_product = 0LL;\n",
        "    int n = numbers.size();\n",
        "\n",
        "    for (int first = 0; first < n; ++first) {\n",
        "        for (int second = first + 1; second < n; ++second) {\n",
        "\t\t\t       aux_product =  (long long) numbers[first] * numbers[second];\n",
        "            if ( max_product < aux_product)  {\n",
        "\t\t\t\t        max_product = aux_product;\n",
        "             }\n",
        "        }\n",
        "    }\n",
        "\n",
        "    return max_product;\n",
        "}\n",
        "\n",
        "int main() {\n",
        "    int n;\n",
        "    std::cin >> n;\n",
        "    std::vector<int> numbers(n);\n",
        "    for (int i = 0; i < n; ++i) {\n",
        "        std::cin >> numbers[i];\n",
        "    }\n",
        "\n",
        "    std::cout << MaxPairwiseProduct(numbers) << \"\\n\";\n",
        "    return 0;\n",
        "}\n"
      ],
      "execution_count": 25,
      "outputs": [
        {
          "output_type": "stream",
          "name": "stdout",
          "text": [
            "Writing max_pairwise_product_long.cpp\n"
          ]
        }
      ]
    },
    {
      "cell_type": "code",
      "metadata": {
        "colab": {
          "base_uri": "https://localhost:8080/"
        },
        "id": "I5pCeOG1Zm7s",
        "outputId": "a2d9df0e-e1ee-45ba-83ab-b1248bbdb84c"
      },
      "source": [
        "!g++ max_pairwise_product_long.cpp -o max_pairwise_product_long\n",
        "!./max_pairwise_product_long < input1.txt\n",
        "!./max_pairwise_product_long < input2.txt"
      ],
      "execution_count": 26,
      "outputs": [
        {
          "output_type": "stream",
          "name": "stdout",
          "text": [
            "90\n",
            "40000000000\n"
          ]
        }
      ]
    },
    {
      "cell_type": "markdown",
      "metadata": {
        "id": "XPVHkHxH6_7s"
      },
      "source": [
        "### Test 3  stress tests 20  times  random n in [2, 20] "
      ]
    },
    {
      "cell_type": "code",
      "source": [
        "%%writefile input3.txt\n",
        "20"
      ],
      "metadata": {
        "colab": {
          "base_uri": "https://localhost:8080/"
        },
        "id": "xXNqRmsOxqy9",
        "outputId": "5b69bdc5-610e-4f34-de32-dd5f63417011"
      },
      "execution_count": 29,
      "outputs": [
        {
          "output_type": "stream",
          "name": "stdout",
          "text": [
            "Overwriting input3.txt\n"
          ]
        }
      ]
    },
    {
      "cell_type": "code",
      "metadata": {
        "id": "PwqpBmYr69fu",
        "colab": {
          "base_uri": "https://localhost:8080/"
        },
        "outputId": "049e3239-3da1-424f-f645-8889c9744e03"
      },
      "source": [
        "%%writefile random_stress.cpp\n",
        "#include <iostream>\n",
        "#include <cstdlib>\n",
        "#include <ctime>\n",
        "\n",
        "using namespace std;\n",
        "\n",
        "int main() {\n",
        "  int n;\n",
        "  cin>>n;\n",
        "\n",
        "  srand(time(NULL));\n",
        "\n",
        "  for(int i=0; i<n; i++){\n",
        "    int num=rand() % 19+2;\n",
        "    cout<<num<<endl;\n",
        "  }\n",
        "  return 0;\n",
        "  }\n",
        "\n"
      ],
      "execution_count": 32,
      "outputs": [
        {
          "output_type": "stream",
          "name": "stdout",
          "text": [
            "Overwriting random_stress.cpp\n"
          ]
        }
      ]
    },
    {
      "cell_type": "code",
      "source": [
        "!g++ random_stress.cpp -o random_stress\n",
        "!./random_stress < input3.txt"
      ],
      "metadata": {
        "colab": {
          "base_uri": "https://localhost:8080/"
        },
        "id": "dRPZ90UpyYFU",
        "outputId": "c13d8e65-d829-418d-def3-9cd59ee1bf7e"
      },
      "execution_count": 33,
      "outputs": [
        {
          "output_type": "stream",
          "name": "stdout",
          "text": [
            "3\n",
            "7\n",
            "15\n",
            "19\n",
            "3\n",
            "20\n",
            "17\n",
            "20\n",
            "10\n",
            "20\n",
            "3\n",
            "5\n",
            "4\n",
            "7\n",
            "20\n",
            "2\n",
            "6\n",
            "6\n",
            "15\n",
            "5\n"
          ]
        }
      ]
    },
    {
      "cell_type": "markdown",
      "metadata": {
        "id": "9z9yr5QkeyJF"
      },
      "source": [
        "### Test 4  time test  measure the execution time running with the the largest worst case file (200000 increasing numbers, 200000 and 200000 the end) "
      ]
    },
    {
      "cell_type": "code",
      "metadata": {
        "id": "oLiMjbAIfPlX",
        "colab": {
          "base_uri": "https://localhost:8080/"
        },
        "outputId": "066c6309-40c0-46c5-b648-a75534a315d6"
      },
      "source": [
        "%%writefile Test2Write.cpp\n",
        "\n",
        "#include <iostream>\n",
        "#include <fstream>\n",
        "#include <cstdlib>\n",
        "\n",
        "using namespace std;\n",
        "\n",
        "int main() {\n",
        "  // Create and open a text file\n",
        "  ofstream MyFile(\"input3.txt\");\n",
        "\n",
        " MyFile << 200000 <<\"\\n\";  // n \n",
        " for (int i=1; i < 200001; i++){\n",
        "     MyFile << i <<\" \";\n",
        " }\n",
        "  \n",
        "  // Close the file\n",
        "  MyFile.close();\n",
        "}"
      ],
      "execution_count": 34,
      "outputs": [
        {
          "output_type": "stream",
          "name": "stdout",
          "text": [
            "Writing Test2Write.cpp\n"
          ]
        }
      ]
    },
    {
      "cell_type": "code",
      "metadata": {
        "id": "EH25TkOkZfD9"
      },
      "source": [
        "!g++ Test2Write.cpp -o Test2Write\n",
        "!./Test2Write"
      ],
      "execution_count": 35,
      "outputs": []
    },
    {
      "cell_type": "markdown",
      "metadata": {
        "id": "JB6f03qO-lj9"
      },
      "source": [
        "Measure time\n",
        "\n",
        "https://askubuntu.com/questions/53444/how-can-i-measure-the-execution-time-of-a-terminal-process"
      ]
    },
    {
      "cell_type": "code",
      "metadata": {
        "colab": {
          "base_uri": "https://localhost:8080/"
        },
        "id": "6p2QLEr576zk",
        "outputId": "c80fc368-dcf7-4df9-b941-bd1b71cc9ae7"
      },
      "source": [
        "!g++ max_pairwise_product_long.cpp -o max_pairwise_product_long\n",
        "!time ./max_pairwise_product_long < input3.txt"
      ],
      "execution_count": 39,
      "outputs": [
        {
          "output_type": "stream",
          "name": "stdout",
          "text": [
            "39999800000\n",
            "39999800000\n",
            "\n",
            "real\t2m23.095s\n",
            "user\t2m21.535s\n",
            "sys\t0m0.063s\n"
          ]
        }
      ]
    },
    {
      "cell_type": "markdown",
      "metadata": {
        "id": "AmZeB2wYjxy5"
      },
      "source": [
        "##### Calculate  the number of instructions executed by the algorithm as a function of n, add in each line a comment with the number of instructions that are executed in that line \n",
        "\n",
        "```cpp\n",
        " int main() {                         //N inst exec by line executed  \n",
        "   \n",
        "    int n;                            //1                      \n",
        "    std::cin >> n;                    //1\n",
        "                                              \n",
        "    std::vector<int> numbers(n);      //n    init vector\n",
        "    .\n",
        "    .\n",
        " }\n",
        "\n",
        "```"
      ]
    },
    {
      "cell_type": "code",
      "metadata": {
        "colab": {
          "base_uri": "https://localhost:8080/"
        },
        "id": "djGX3FL13g9b",
        "outputId": "035ab5d1-839b-4a15-f922-818a56f9416c"
      },
      "source": [
        "%%writefile test_init_vectors.cpp\n",
        "#include <iostream>\n",
        "#include <vector>\n",
        "#include <algorithm>\n",
        "int main() {                                                               \n",
        "    int n = 10;                                                                                                                            //1\n",
        "    std::vector<int> numbers(n);                                            \n",
        "    for (int i = 0; i < n; ++i) {                                           \n",
        "        std::cout << numbers[i];                                             \n",
        "    }\n",
        "\n",
        "    std::cout << \"\\n\";                       \n",
        "    return 0;                                                              \n",
        "}  "
      ],
      "execution_count": 40,
      "outputs": [
        {
          "output_type": "stream",
          "name": "stdout",
          "text": [
            "Writing test_init_vectors.cpp\n"
          ]
        }
      ]
    },
    {
      "cell_type": "code",
      "metadata": {
        "colab": {
          "base_uri": "https://localhost:8080/"
        },
        "id": "44gZcuE237-1",
        "outputId": "0c5e7008-8d56-45a5-9270-4c8e994150f9"
      },
      "source": [
        "!g++ test_init_vectors.cpp -o test_init_vectors\n",
        "!./test_init_vectors"
      ],
      "execution_count": 41,
      "outputs": [
        {
          "output_type": "stream",
          "name": "stdout",
          "text": [
            "0000000000\n"
          ]
        }
      ]
    },
    {
      "cell_type": "code",
      "metadata": {
        "colab": {
          "base_uri": "https://localhost:8080/"
        },
        "id": "uG6Mv-Pwlkii",
        "outputId": "4a0dd168-d68d-41b2-d2e4-9be5d3e6e686"
      },
      "source": [
        "%%writefile max_pairwise_product_long.cpp\n",
        "#include <iostream>\n",
        "#include <vector>\n",
        "#include <algorithm>\n",
        "\n",
        "long long MaxPairwiseProduct(const std::vector<int>& numbers) {              //N inst exec by line executed \n",
        "    long long max_product = 0LL;                                             //1                                          \n",
        "\t  long long aux_product = 0LL;                                             //1 \n",
        "    int n = numbers.size();                                                  //1 \n",
        "                                                                             \n",
        "    for (int first = 0; first < n; ++first) {                                //1+2n  \n",
        "        for (int second = first + 1; second < n; ++second) {                 //n + (n-1)n \n",
        "\t\t\t       aux_product =  (long long) numbers[first] * numbers[second];    //(n-1)n/2 \n",
        "            if (max_product < aux_product)  {                                //(n-1)n/2 \n",
        "\t\t\t\t        max_product = aux_product;                                   //[0, (n-1)n/2] \n",
        "             }\n",
        "        }\n",
        "    }\n",
        "                                                                             // -------------- \n",
        "    return max_product;                                                      // 4 + 3n + [2(n-1)n, 2.5 (n-1)n] \n",
        "}\n",
        "\n",
        "int main() {                                              //N inst exec by line executed \n",
        "    int n;                                                //1  \n",
        "    std::cin >> n;                                        //1\n",
        "    std::vector<int> numbers(n);                          //n\n",
        "    for (int i = 0; i < n; ++i) {                         //1 + 2n\n",
        "        std::cin >> numbers[i];                           //n\n",
        "    }\n",
        "\n",
        "    std::cout << MaxPairwiseProduct(numbers) << \"\\n\";     //1 + 1  + 4 + 3n + [2(n-1)n, 2.5 (n-1)n]\n",
        "    return 0;                                             // -------------- \n",
        "}                                                         // 9 + 7n + [2(n-1)n, 2.5 (n-1)n]\n"
      ],
      "execution_count": 42,
      "outputs": [
        {
          "output_type": "stream",
          "name": "stdout",
          "text": [
            "Overwriting max_pairwise_product_long.cpp\n"
          ]
        }
      ]
    },
    {
      "cell_type": "markdown",
      "metadata": {
        "id": "0vTsUg8OwcHs"
      },
      "source": [
        "Count executed intructions in code and verify with inputs 1, 2 and 3"
      ]
    },
    {
      "cell_type": "code",
      "metadata": {
        "colab": {
          "base_uri": "https://localhost:8080/"
        },
        "id": "CuRKkqQc137V",
        "outputId": "1f65f3f1-c064-493e-83ae-ef36dea21a5d"
      },
      "source": [
        "%%writefile max_pairwise_product_long_execints.cpp\n",
        "#include <iostream>\n",
        "#include <vector>\n",
        "#include <algorithm>\n",
        "\n",
        "long long MaxPairwiseProduct(const std::vector<int>& numbers, long long &execints) {              //N inst exec by line executed \n",
        "    \n",
        "    long long m = 0LL;                                                       //1\n",
        "    \n",
        "    long long max_product = 0LL;                                             //1\n",
        "    execints++;\n",
        "\n",
        "\t  long long aux_product = 0LL;                                             //1\n",
        "    execints++;\n",
        "\n",
        "    int n = numbers.size();                                                  //1 \n",
        "    execints++;\n",
        "\n",
        "    execints++;                                                                         \n",
        "    for (int first = 0; first < n; ++first) {                                //1+2n  \n",
        "        execints += 2;\n",
        "\n",
        "        long long m = 0LL;\n",
        "\n",
        "        execints++;                                    \n",
        "        for (int second = first + 1; second < n; ++second) {                 //n+ (n-1)n \n",
        "            execints += 2;                                                \n",
        "\n",
        "\t\t\t      aux_product =  (long long) numbers[first] * numbers[second];    //(n-1)n/2 \n",
        "            execints++; \n",
        "\n",
        "            execints++; \n",
        "            if ( max_product < aux_product)  {                               //(n-1)n/2 \n",
        "                       \n",
        "\t\t\t\t        max_product = aux_product;                                   //[0, (n-1)n/2] \n",
        "                execints++; \n",
        "                m++;\n",
        "             }\n",
        "        }\n",
        "        if ( (first <= 10) || (n- first <= 10)) std::cout << m << \"\\n\";\n",
        "    }\n",
        "                                                                            // -------------- \n",
        "    return max_product;                                                     // 4 + 3n + [2(n-1)n, 2.5 (n-1)n] \n",
        "}\n",
        "\n",
        "int main() {                                                 //N inst exec by line executed \n",
        "    long long execints =0LL;\n",
        "\n",
        "    int n;                                                   //1\n",
        "    execints++;                                                              \n",
        "    \n",
        "    std::cin >> n;                                           //1\n",
        "    execints++;\n",
        "\n",
        "    std::vector<int> numbers(n);                             //n\n",
        "    execints += n;\n",
        "    \n",
        "    execints++;\n",
        "    for (int i = 0; i < n; ++i) {                            //1 + 2n\n",
        "        execints += 2;\n",
        "\n",
        "        std::cin >> numbers[i];\n",
        "        execints++;                                          //n\n",
        "    }\n",
        "    \n",
        "    //std::cout << MaxPairwiseProduct(numbers) << \"\\n\";      //1 + 1  + 4 + 3n + [2(n-1)n, 2.5 (n-1)n]\n",
        "\n",
        "    execints++;\n",
        "    int M = MaxPairwiseProduct(numbers,execints);\n",
        "\n",
        "    execints++;\n",
        "    std::cout <<  execints << \"\\n\";                       \n",
        "    return 0;                                                // -------------- \n",
        "}                                                            // 9 + 7n + [2(n-1)n, 2.5 (n-1)n]"
      ],
      "execution_count": 43,
      "outputs": [
        {
          "output_type": "stream",
          "name": "stdout",
          "text": [
            "Writing max_pairwise_product_long_execints.cpp\n"
          ]
        }
      ]
    },
    {
      "cell_type": "code",
      "metadata": {
        "colab": {
          "base_uri": "https://localhost:8080/"
        },
        "id": "Kuvm1C05ly2a",
        "outputId": "332961e8-32a7-43c0-fd87-5b734b4e7c57"
      },
      "source": [
        "!g++ max_pairwise_product_long_execints.cpp -o max_pairwise_product_long_execints\n",
        "!./max_pairwise_product_long_execints < input1.txt\n",
        "!./max_pairwise_product_long_execints < input2.txt\n",
        "!./max_pairwise_product_long_execints < input3.txt"
      ],
      "execution_count": 44,
      "outputs": [
        {
          "output_type": "stream",
          "name": "stdout",
          "text": [
            "9\n",
            "5\n",
            "4\n",
            "3\n",
            "2\n",
            "2\n",
            "2\n",
            "2\n",
            "1\n",
            "0\n",
            "289\n",
            "2\n",
            "1\n",
            "2\n",
            "0\n",
            "0\n",
            "0\n",
            "116\n",
            "199999\n",
            "100000\n",
            "66667\n",
            "50000\n",
            "40000\n",
            "33334\n",
            "28572\n",
            "25000\n",
            "22223\n",
            "20000\n",
            "18182\n",
            "2\n",
            "2\n",
            "2\n",
            "2\n",
            "2\n",
            "2\n",
            "2\n",
            "2\n",
            "1\n",
            "0\n",
            "80003672077\n"
          ]
        }
      ]
    },
    {
      "cell_type": "markdown",
      "metadata": {
        "id": "L_uaamxeAHK7"
      },
      "source": [
        "The number of instructions executed by the algooirithm with a list of size $n$ is  \n",
        "\n",
        "$$T = 9 + 7n + [2(n-1)n, 2.5 (n-1)n]$$\n",
        "\n",
        "It depends on the size of the lists and  the order of the list.\n",
        "\n",
        "For the input1.txt \n",
        "```\n",
        "10\n",
        "1 2 3 4 5 6 7 8 9 10\n",
        "```\n",
        "$$T = 9 + 7(10) + 2(9)(10) +  9 + 5 + 4 + 3 + 2 + 2 + 2 + 2 + 1 + 0  = 289 $$\n",
        "\n",
        "For the input2.txt \n",
        "```\n",
        "6\n",
        "1 3 200000 9 200000 23\n",
        "```\n",
        "$$T = 9 + 7(6) + 2(5)(6)  +  2 + 1 + 2 + 0 + 0 + 0 = 116 $$\n",
        "\n",
        "\n",
        "For the input3.txt that is the worst case (n=200000 and list in incresing order)\n",
        "\n",
        "```\n",
        "200000\n",
        "1 2 3 4 5 6 7 8 9 10 ... 199998 199999 200000\n",
        "```\n",
        "\n",
        "$$\n",
        "\\begin{array}{ll}\n",
        "T &= 9 + 7(200000) + (2)(199999)(200000)  + (199999 +\n",
        "100000 + 66667 +50000 \\cdots 2 + 2 + 1)\\\\\n",
        "&= 80003672077  \\\\\n",
        "  &< 9 + 7(200000) + (2.5)(199999)(200000) \\\\\n",
        "  & = 100000900009\n",
        "\\end{array}\n",
        "  $$"
      ]
    },
    {
      "cell_type": "markdown",
      "metadata": {
        "id": "NXW7QkoBL6xH"
      },
      "source": [
        "Calculate estimated time by instruction and number of instructions by second"
      ]
    },
    {
      "cell_type": "code",
      "metadata": {
        "colab": {
          "base_uri": "https://localhost:8080/"
        },
        "id": "pKqB3i7dIxnc",
        "outputId": "18affcaf-5a81-4f65-b755-9742ca630391"
      },
      "source": [
        "# Estimated time by instruction\n",
        "\n",
        "128/80003672077 \n"
      ],
      "execution_count": 45,
      "outputs": [
        {
          "output_type": "execute_result",
          "data": {
            "text/plain": [
              "1.5999265618308827e-09"
            ]
          },
          "metadata": {},
          "execution_count": 45
        }
      ]
    },
    {
      "cell_type": "code",
      "metadata": {
        "colab": {
          "base_uri": "https://localhost:8080/"
        },
        "id": "18N1ouqeMhE1",
        "outputId": "b6fb32eb-17df-40af-9f63-13a593a05552"
      },
      "source": [
        "# Estimated number of instructions by second\n",
        "\n",
        "1/(128/80003672077) "
      ],
      "execution_count": 46,
      "outputs": [
        {
          "output_type": "execute_result",
          "data": {
            "text/plain": [
              "625028688.1015625"
            ]
          },
          "metadata": {},
          "execution_count": 46
        }
      ]
    },
    {
      "cell_type": "markdown",
      "metadata": {
        "id": "CQufozXLNJwO"
      },
      "source": [
        "### Efficient solution"
      ]
    },
    {
      "cell_type": "markdown",
      "metadata": {
        "id": "nLcKBwbU0QsE"
      },
      "source": [
        "Add in each line a coment with the number of intstrcution that are executed in that line"
      ]
    },
    {
      "cell_type": "code",
      "metadata": {
        "id": "knls5Fh3NSt_",
        "colab": {
          "base_uri": "https://localhost:8080/"
        },
        "outputId": "6200499e-fc95-4c22-887e-b452a429269b"
      },
      "source": [
        "%%writefile max_pairwise_product_efficient.cpp\n",
        "// We include the needed libraries for input/output and working with vectors\n",
        "#include <iostream>\n",
        "#include <vector>\n",
        "#include <algorithm>\n",
        "\n",
        "// This function helps us find the product of the two largest numbers in a list\n",
        "long long MaxPairwiseProduct(const std::vector<int>& numbers, long long &execints) {\n",
        "\n",
        "    // Find the size of the numbers list\n",
        "    int n = numbers.size();\n",
        "    execints++; //1\n",
        "\n",
        "    // Create a variable to remember the position of the largest number we've found so far\n",
        "    int max_index1 = -1;\n",
        "    execints++; //1\n",
        "\n",
        "    // Go through each number in the list\n",
        "    execints++; //1\n",
        "    for (int i = 0; i < n; ++i) {\n",
        "        execints += 2; //2\n",
        "\n",
        "        // If we find a number bigger than the current largest number, remember its position\n",
        "        if (max_index1 == -1 || numbers[i] > numbers[max_index1]) {\n",
        "            max_index1 = i;\n",
        "            execints++; //1\n",
        "        }\n",
        "    }\n",
        "\n",
        "    // Create another variable to remember the position of the second-largest number\n",
        "    int max_index2 = -1;\n",
        "    execints++; //1\n",
        "\n",
        "    // Go through each number in the list again, but skip the largest number we found earlier\n",
        "    execints++; //1\n",
        "    for (int i = 0; i < n; ++i) {\n",
        "        execints += 2; //2\n",
        "\n",
        "        // If we find a number bigger than the current second-largest number, and it's not the largest number, remember its position\n",
        "        if ((i != max_index1) && (max_index2 == -1 || numbers[i] > numbers[max_index2])) {\n",
        "            max_index2 = i;\n",
        "            execints++; //1\n",
        "        }\n",
        "    }\n",
        "\n",
        "    // Multiply the two largest numbers and return the result\n",
        "    return (long long) numbers[max_index1] * numbers[max_index2];\n",
        "}\n",
        "\n",
        "// This is the main part of the program that runs first\n",
        "int main() {\n",
        "    // A variable to count the number of instructions executed\n",
        "    long long execints = 0LL;\n",
        "\n",
        "    // Read the size of the numbers list from the user\n",
        "    int n;\n",
        "    execints++; //1\n",
        "\n",
        "    std::cin >> n;\n",
        "    execints++; //1\n",
        "\n",
        "    // Create a list of numbers with the size given by the user\n",
        "    std::vector<int> numbers(n);\n",
        "    execints += n; //n\n",
        "\n",
        "    // Read each number from the user and add it to the list\n",
        "    execints++; //1\n",
        "    for (int i = 0; i < n; ++i) {\n",
        "        execints += 2; //2\n",
        "\n",
        "        std::cin >> numbers[i];\n",
        "        execints++; //1\n",
        "    }\n",
        "\n",
        "    // Call the MaxPairwiseProduct function to find the product of the two largest numbers\n",
        "    execints++; //1\n",
        "    long long result = MaxPairwiseProduct(numbers, execints);\n",
        "\n",
        "    // Show the result and the number of instructions executed\n",
        "    execints++; //1\n",
        "    std::cout << result << \"\\n\";\n",
        "    std::cout << execints << \"\\n\";\n",
        "    return 0;\n",
        "}\n"
      ],
      "execution_count": 52,
      "outputs": [
        {
          "output_type": "stream",
          "name": "stdout",
          "text": [
            "Overwriting max_pairwise_product_efficient.cpp\n"
          ]
        }
      ]
    },
    {
      "cell_type": "markdown",
      "metadata": {
        "id": "-JCijbWxNSii"
      },
      "source": [
        "Test with inputs 1 and 2\n",
        "\n"
      ]
    },
    {
      "cell_type": "code",
      "metadata": {
        "id": "TrTGAfqlNVXT",
        "colab": {
          "base_uri": "https://localhost:8080/"
        },
        "outputId": "3a3a83c8-aaec-4c7e-a57f-771c751b9b09"
      },
      "source": [
        "!g++ max_pairwise_product_efficient.cpp -o max_pairwise_product_efficient\n",
        "!./max_pairwise_product_efficient < input1.txt\n",
        "!./max_pairwise_product_efficient < input2.txt"
      ],
      "execution_count": 53,
      "outputs": [
        {
          "output_type": "stream",
          "name": "stdout",
          "text": [
            "90\n",
            "109\n",
            "40000000000\n",
            "65\n"
          ]
        }
      ]
    },
    {
      "cell_type": "markdown",
      "metadata": {
        "id": "PRX51wADNR8b"
      },
      "source": [
        "Test and time it with input 3"
      ]
    },
    {
      "cell_type": "code",
      "metadata": {
        "id": "v4z7-Is_NRt7",
        "colab": {
          "base_uri": "https://localhost:8080/"
        },
        "outputId": "97f9aa60-0df3-4a2b-b817-b04c9e637516"
      },
      "source": [
        "!time ./max_pairwise_product_efficient < input3.txt"
      ],
      "execution_count": 54,
      "outputs": [
        {
          "output_type": "stream",
          "name": "stdout",
          "text": [
            "39999800000\n",
            "2000009\n",
            "\n",
            "real\t0m0.059s\n",
            "user\t0m0.056s\n",
            "sys\t0m0.003s\n"
          ]
        }
      ]
    },
    {
      "cell_type": "markdown",
      "metadata": {
        "id": "rpdfs0_TNZJf"
      },
      "source": [
        "20 stress tests"
      ]
    },
    {
      "cell_type": "code",
      "metadata": {
        "id": "Lu4tYcKzNcTT",
        "colab": {
          "base_uri": "https://localhost:8080/"
        },
        "outputId": "e16136be-be11-4116-b143-735ac566209f"
      },
      "source": [
        "%%writefile max_pairwise_product_efficient_test3.cpp\n",
        "#include <iostream>\n",
        "#include <vector>\n",
        "#include <algorithm>\n",
        "#include <cstdlib>\n",
        "#include <ctime>\n",
        "#include <fstream>\n",
        "\n",
        "\n",
        "using namespace std;\n",
        "\n",
        "long long MaxPairwiseProduct(const std::vector<int>& numbers, long long &execints) {\n",
        "  \n",
        "    // Find the size of the numbers list\n",
        "    int n = numbers.size();\n",
        "    execints++; //1\n",
        "\n",
        "    // Create a variable to remember the position of the largest number we've found so far\n",
        "    int max_index1 = -1;\n",
        "    execints++; //1\n",
        "\n",
        "    // Go through each number in the list\n",
        "    execints++; //1\n",
        "    for (int i = 0; i < n; ++i) {\n",
        "        execints += 2; //2\n",
        "\n",
        "        // If we find a number bigger than the current largest number, remember its position\n",
        "        if (max_index1 == -1 || numbers[i] > numbers[max_index1]) {\n",
        "            max_index1 = i;\n",
        "            execints++; //1\n",
        "        }\n",
        "    }\n",
        "\n",
        "    // Create another variable to remember the position of the second-largest number\n",
        "    int max_index2 = -1;\n",
        "    execints++; //1\n",
        "\n",
        "    // Go through each number in the list again, but skip the largest number we found earlier\n",
        "    execints++; //1\n",
        "    for (int i = 0; i < n; ++i) {\n",
        "        execints += 2; //2\n",
        "\n",
        "        // If we find a number bigger than the current second-largest number, and it's not the largest number, remember its position\n",
        "        if ((i != max_index1) && (max_index2 == -1 || numbers[i] > numbers[max_index2])) {\n",
        "            max_index2 = i;\n",
        "            execints++; //1\n",
        "        }\n",
        "    }\n",
        "\n",
        "    // Multiply the two largest numbers and return the result\n",
        "    return (long long) numbers[max_index1] * numbers[max_index2];\n",
        "}\n",
        "\n",
        "\n",
        "int main() {\n",
        "    // List of input file names\n",
        "    vector<string> input_files = {\"input1.txt\", \"input2.txt\", \"input3.txt\"};\n",
        "\n",
        "    // Loop through the input files\n",
        "    for (const auto &file_name : input_files) {\n",
        "        // Open the input file\n",
        "        ifstream input_file(file_name);\n",
        "\n",
        "        if (input_file.is_open()) {\n",
        "            // A variable to count the number of instructions executed\n",
        "            long long execints = 0LL;\n",
        "\n",
        "            // Read the size of the numbers list from the input file\n",
        "            int n;\n",
        "            execints++; //1\n",
        "\n",
        "            input_file >> n;\n",
        "            execints++; //1\n",
        "\n",
        "            // Create a list of numbers with the size read from the input file\n",
        "            std::vector<int> numbers(n);\n",
        "            execints += n; //n\n",
        "\n",
        "            // Read each number from the input file and add it to the list\n",
        "            execints++; //1\n",
        "            for (int i = 0; i < n; ++i) {\n",
        "                execints += 2; //2\n",
        "\n",
        "                input_file >> numbers[i];\n",
        "                execints++; //1\n",
        "            }\n",
        "\n",
        "            // Close the input file\n",
        "            input_file.close();\n",
        "\n",
        "            // Call the MaxPairwiseProduct function to find the product of the two largest numbers\n",
        "            execints++; //1\n",
        "            long long result = MaxPairwiseProduct(numbers, execints);\n",
        "\n",
        "            // Show the result and the number of instructions executed\n",
        "            execints++; //1\n",
        "            std::cout << \"Result for file \" << file_name << \": \" << result << \"\\n\";\n",
        "            std::cout << \"Instructions executed: \" << execints << \"\\n\\n\";\n",
        "        } else {\n",
        "            cerr << \"Unable to open file \" << file_name << \"\\n\";\n",
        "        }\n",
        "    }\n",
        "\n",
        "    return 0;\n",
        "}\n"
      ],
      "execution_count": 72,
      "outputs": [
        {
          "output_type": "stream",
          "name": "stdout",
          "text": [
            "Overwriting max_pairwise_product_efficient_test3.cpp\n"
          ]
        }
      ]
    },
    {
      "cell_type": "markdown",
      "metadata": {
        "id": "L8U4151JNbxk"
      },
      "source": [
        "Count executed instructions in code and verify with inputs 1,2 and 3\n"
      ]
    },
    {
      "cell_type": "code",
      "metadata": {
        "id": "dh85RM8vNhFz",
        "colab": {
          "base_uri": "https://localhost:8080/"
        },
        "outputId": "ad51a112-c6e9-49b7-ce8f-0726661a56ca"
      },
      "source": [
        "!g++ max_pairwise_product_efficient_test3.cpp -o max_pairwise_product_efficient_test3\n",
        "!./max_pairwise_product_efficient_test3 < input1.txt\n",
        "!./max_pairwise_product_efficient_test3 < input2.txt\n",
        "!./max_pairwise_product_efficient_test3 < input3.txt"
      ],
      "execution_count": 73,
      "outputs": [
        {
          "output_type": "stream",
          "name": "stdout",
          "text": [
            "Result for file input1.txt: 90\n",
            "Instructions executed: 109\n",
            "\n",
            "Result for file input2.txt: 40000000000\n",
            "Instructions executed: 65\n",
            "\n",
            "Result for file input3.txt: 39999800000\n",
            "Instructions executed: 2000009\n",
            "\n",
            "Result for file input1.txt: 90\n",
            "Instructions executed: 109\n",
            "\n",
            "Result for file input2.txt: 40000000000\n",
            "Instructions executed: 65\n",
            "\n",
            "Result for file input3.txt: 39999800000\n",
            "Instructions executed: 2000009\n",
            "\n",
            "Result for file input1.txt: 90\n",
            "Instructions executed: 109\n",
            "\n",
            "Result for file input2.txt: 40000000000\n",
            "Instructions executed: 65\n",
            "\n",
            "Result for file input3.txt: 39999800000\n",
            "Instructions executed: 2000009\n",
            "\n"
          ]
        }
      ]
    },
    {
      "cell_type": "markdown",
      "metadata": {
        "id": "K6ybgCmpNygr"
      },
      "source": [
        "Calculate estimated time by instruction and number of instructions by second"
      ]
    },
    {
      "cell_type": "code",
      "metadata": {
        "id": "kwe3G1O3Nz1w",
        "colab": {
          "base_uri": "https://localhost:8080/"
        },
        "outputId": "6c1de12c-4bc7-4a2f-dc6f-b053d34d0919"
      },
      "source": [
        "1.097/2000009"
      ],
      "execution_count": 74,
      "outputs": [
        {
          "output_type": "execute_result",
          "data": {
            "text/plain": [
              "5.48497531761107e-07"
            ]
          },
          "metadata": {},
          "execution_count": 74
        }
      ]
    },
    {
      "cell_type": "markdown",
      "metadata": {
        "id": "sc9nOLQrfTm0"
      },
      "source": [
        "### Super efficient solution\n",
        "\n",
        "Without storing the list in memory and Without calling a function, add in each line a coment with the number of instructions that are executed in that line "
      ]
    },
    {
      "cell_type": "code",
      "metadata": {
        "id": "hBLt_xBQLy8E",
        "colab": {
          "base_uri": "https://localhost:8080/"
        },
        "outputId": "2f33711c-4cc1-4c2f-f30b-b844b38894aa"
      },
      "source": [
        "%%writefile max_prw_prod_super.cpp\n",
        "#include <iostream>\n",
        "#include <algorithm>\n",
        "\n",
        "int main() {\n",
        "    // A variable to count the number of instructions executed\n",
        "    long long execints = 0LL;\n",
        "\n",
        "    // Read the size of the numbers list from the user\n",
        "    int n;\n",
        "    execints++; //1\n",
        "\n",
        "    std::cin >> n;\n",
        "    execints++; //1\n",
        "\n",
        "    // Initialize variables to store the two largest numbers without storing the entire list in memory\n",
        "    int max1 = -1, max2 = -1;\n",
        "    execints += 2; //2\n",
        "\n",
        "    int num;\n",
        "    execints++; //1\n",
        "\n",
        "    // Read each number from the user and update the two largest numbers if necessary\n",
        "    execints++; //1\n",
        "    for (int i = 0; i < n; ++i) {\n",
        "        execints += 2; //2\n",
        "\n",
        "        std::cin >> num;\n",
        "        execints++; //1\n",
        "\n",
        "        if (num > max1) {\n",
        "            max2 = max1;\n",
        "            max1 = num;\n",
        "            execints += 2; //2\n",
        "        } else if (num > max2) {\n",
        "            max2 = num;\n",
        "            execints++; //1\n",
        "        }\n",
        "    }\n",
        "\n",
        "    // Calculate the result as the product of the two largest numbers\n",
        "    long long result = static_cast<long long>(max1) * max2;\n",
        "    execints++; //1\n",
        "\n",
        "    // Show the result and the number of instructions executed\n",
        "    execints++; //1\n",
        "    std::cout << result << \"\\n\";\n",
        "    std::cout << execints << \"\\n\";\n",
        "    return 0;\n",
        "}\n"
      ],
      "execution_count": 75,
      "outputs": [
        {
          "output_type": "stream",
          "name": "stdout",
          "text": [
            "Writing max_prw_prod_super.cpp\n"
          ]
        }
      ]
    },
    {
      "cell_type": "markdown",
      "metadata": {
        "id": "683gc3roHqzb"
      },
      "source": [
        "Test with inputs 1 and 2\n",
        "\n",
        "\n",
        " "
      ]
    },
    {
      "cell_type": "code",
      "metadata": {
        "id": "b7d4LA8OIc2_",
        "colab": {
          "base_uri": "https://localhost:8080/"
        },
        "outputId": "bcc5ddfc-548c-4f03-89cc-169983739d0c"
      },
      "source": [
        "!g++ max_prw_prod_super.cpp -o max_prw_prod_super\n",
        "!./max_prw_prod_super < input1.txt\n",
        "!./max_prw_prod_super < input2.txt"
      ],
      "execution_count": 76,
      "outputs": [
        {
          "output_type": "stream",
          "name": "stdout",
          "text": [
            "90\n",
            "58\n",
            "40000000000\n",
            "34\n"
          ]
        }
      ]
    },
    {
      "cell_type": "markdown",
      "metadata": {
        "id": "36Ugn1odIeJz"
      },
      "source": [
        "Test and time it with input 3"
      ]
    },
    {
      "cell_type": "code",
      "metadata": {
        "id": "jDyMbCnxHqSN",
        "colab": {
          "base_uri": "https://localhost:8080/"
        },
        "outputId": "d8c76d80-04ec-47c8-b89b-5113eadeba21"
      },
      "source": [
        "!time ./max_prw_prod_super < input3.txt"
      ],
      "execution_count": 77,
      "outputs": [
        {
          "output_type": "stream",
          "name": "stdout",
          "text": [
            "39999800000\n",
            "1000008\n",
            "\n",
            "real\t0m0.054s\n",
            "user\t0m0.051s\n",
            "sys\t0m0.003s\n"
          ]
        }
      ]
    },
    {
      "cell_type": "markdown",
      "metadata": {
        "id": "bhqiKQG6fjKM"
      },
      "source": [
        "20 stress tests "
      ]
    },
    {
      "cell_type": "code",
      "metadata": {
        "id": "2KsiXKhALzwm",
        "colab": {
          "base_uri": "https://localhost:8080/"
        },
        "outputId": "39f35ad8-3360-4501-f145-7d0914e25ee0"
      },
      "source": [
        "%%writefile max_prw_prod_super_test3.cpp\n",
        "#include <iostream>\n",
        "#include <algorithm>\n",
        "#include <cstdlib>\n",
        "#include <ctime>\n",
        "\n",
        "int main() {\n",
        "    // Seed the random number generator\n",
        "    srand(time(NULL));\n",
        "    \n",
        "    // A variable to count the number of instructions executed\n",
        "    long long execints = 0LL;\n",
        "\n",
        "    int n = 20;\n",
        "    execints++; //1\n",
        "\n",
        "    // Initialize variables to store the two largest numbers without storing the entire list in memory\n",
        "    int max1 = -1, max2 = -1;\n",
        "    execints += 2; //2\n",
        "\n",
        "    int num;\n",
        "    execints++; //1\n",
        "\n",
        "    // Generate and process random numbers, updating the two largest numbers if necessary\n",
        "    execints++; //1\n",
        "    for (int i = 0; i < n; ++i) {\n",
        "        execints += 2; //2\n",
        "\n",
        "        num = rand() % 19 + 2;\n",
        "        execints++; //1\n",
        "\n",
        "        if (num > max1) {\n",
        "            max2 = max1;\n",
        "            max1 = num;\n",
        "            execints += 2; //2\n",
        "        } else if (num > max2) {\n",
        "            max2 = num;\n",
        "            execints++; //1\n",
        "        }\n",
        "    }\n",
        "\n",
        "    // Calculate the result as the product of the two largest numbers\n",
        "    long long result = static_cast<long long>(max1) * max2;\n",
        "    execints++; //1\n",
        "\n",
        "    // Show the result and the number of instructions executed\n",
        "    execints++; //1\n",
        "    std::cout << \"Result: \" << result << \"\\n\";\n",
        "    std::cout << \"Instructions executed: \" << execints << \"\\n\";\n",
        "    return 0;\n",
        "}\n"
      ],
      "execution_count": 78,
      "outputs": [
        {
          "output_type": "stream",
          "name": "stdout",
          "text": [
            "Writing max_prw_prod_super_test3.cpp\n"
          ]
        }
      ]
    },
    {
      "cell_type": "markdown",
      "metadata": {
        "id": "fEXj8GHJH5p1"
      },
      "source": [
        "Count executed instructions in code and verify with inputs 1,2 and 3"
      ]
    },
    {
      "cell_type": "code",
      "metadata": {
        "id": "LF1DHjKXIAsF",
        "colab": {
          "base_uri": "https://localhost:8080/"
        },
        "outputId": "75ab92a2-375c-4de3-d4b7-41b7b34e0938"
      },
      "source": [
        "!g++ max_prw_prod_super_test3.cpp -o max_prw_prod_super_test3\n",
        "!./max_prw_prod_super < input1.txt\n",
        "!./max_prw_prod_super < input2.txt\n",
        "!./max_prw_prod_super < input3.txt"
      ],
      "execution_count": 79,
      "outputs": [
        {
          "output_type": "stream",
          "name": "stdout",
          "text": [
            "90\n",
            "58\n",
            "40000000000\n",
            "34\n",
            "39999800000\n",
            "1000008\n"
          ]
        }
      ]
    },
    {
      "cell_type": "markdown",
      "metadata": {
        "id": "yae7sSm2IG9U"
      },
      "source": [
        "Calculate estimated time by instruction and number of instructions by second"
      ]
    },
    {
      "cell_type": "code",
      "metadata": {
        "id": "suouY7BYL2dz",
        "colab": {
          "base_uri": "https://localhost:8080/"
        },
        "outputId": "2f3bc583-504d-40cf-ec2a-dcf6952d261d"
      },
      "source": [
        "!time ./max_prw_prod_super_test3 < input3.txt"
      ],
      "execution_count": 80,
      "outputs": [
        {
          "output_type": "stream",
          "name": "stdout",
          "text": [
            "Result: 342\n",
            "Instructions executed: 74\n",
            "\n",
            "real\t0m0.002s\n",
            "user\t0m0.001s\n",
            "sys\t0m0.001s\n"
          ]
        }
      ]
    },
    {
      "cell_type": "code",
      "source": [
        "0.002/74"
      ],
      "metadata": {
        "colab": {
          "base_uri": "https://localhost:8080/"
        },
        "id": "ik3g8228EwUZ",
        "outputId": "e6ef28c6-611b-43ec-cbac-3527ae0606fc"
      },
      "execution_count": 81,
      "outputs": [
        {
          "output_type": "execute_result",
          "data": {
            "text/plain": [
              "2.7027027027027027e-05"
            ]
          },
          "metadata": {},
          "execution_count": 81
        }
      ]
    },
    {
      "cell_type": "code",
      "source": [
        "1/(0.002/74)"
      ],
      "metadata": {
        "colab": {
          "base_uri": "https://localhost:8080/"
        },
        "id": "TEagk0wfE1e3",
        "outputId": "0ab7e358-f66b-4c3f-b55e-349e23dcfbb6"
      },
      "execution_count": 82,
      "outputs": [
        {
          "output_type": "execute_result",
          "data": {
            "text/plain": [
              "37000.0"
            ]
          },
          "metadata": {},
          "execution_count": 82
        }
      ]
    },
    {
      "cell_type": "markdown",
      "metadata": {
        "id": "LkVxxlhl9H98"
      },
      "source": [
        "# Codeforces problem https://codeforces.com/contest/1619/problem/A \n",
        "\n",
        "Solve the problem in Colab, submit the solution to Codeforces and add a screenshoot of the submission."
      ]
    },
    {
      "cell_type": "markdown",
      "source": [
        "![image.png](data:image/png;base64,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)"
      ],
      "metadata": {
        "id": "VTb28rnOMjbT"
      }
    },
    {
      "cell_type": "markdown",
      "source": [
        "The exercise was done through Python:"
      ],
      "metadata": {
        "id": "dyvZISYTMtMh"
      }
    },
    {
      "cell_type": "code",
      "source": [
        "def is_square(input_string):\n",
        "    for i in range(len(input_string) // 2):\n",
        "        if input_string[:i + 1] * 2 == input_string:\n",
        "            return \"YES\"\n",
        "    return \"NO\"\n",
        "\n",
        "# Read the number of test cases from the user\n",
        "num_tests = int(input())\n",
        "\n",
        "# Process each test case\n",
        "for _ in range(num_tests):\n",
        "    input_string = input()\n",
        "    print(is_square(input_string))\n"
      ],
      "metadata": {
        "colab": {
          "base_uri": "https://localhost:8080/"
        },
        "id": "AX0Ol2rvMyg5",
        "outputId": "5d715a29-68d6-48ba-f1c4-6b0e7ed694ee"
      },
      "execution_count": 86,
      "outputs": [
        {
          "output_type": "stream",
          "name": "stdout",
          "text": [
            "10\n",
            "a\n",
            "NO\n",
            "aaa\n",
            "NO\n",
            "aaaa\n",
            "YES\n",
            "acac\n",
            "YES\n",
            "abab\n",
            "YES\n",
            "abcab\n",
            "NO\n",
            "xyxy\n",
            "YES\n",
            "xyyx\n",
            "NO\n",
            "xaxa\n",
            "YES\n",
            "axxa\n",
            "NO\n"
          ]
        }
      ]
    }
  ]
}