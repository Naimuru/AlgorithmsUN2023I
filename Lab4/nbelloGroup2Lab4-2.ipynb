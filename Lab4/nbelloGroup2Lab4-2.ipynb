{
  "nbformat": 4,
  "nbformat_minor": 0,
  "metadata": {
    "colab": {
      "provenance": []
    },
    "kernelspec": {
      "name": "python3",
      "display_name": "Python 3"
    },
    "language_info": {
      "name": "python"
    }
  },
  "cells": [
    {
      "cell_type": "markdown",
      "metadata": {
        "id": "N1ok_-56OjB1"
      },
      "source": [
        "<a href=\"https://colab.research.google.com/drive/1ThDb7Zbu1gMFroM2ZESiQOlwRtzeSXQd#scrollTo=VTb28rnOMjbT\" target=\"_parent\"><img src=\"https://colab.research.google.com/assets/colab-badge.svg\" alt=\"Open In Colab\"/></a>"
      ]
    },
    {
      "cell_type": "markdown",
      "metadata": {
        "id": "MMY7kmDSO0KM"
      },
      "source": [
        "## C++"
      ]
    },
    {
      "cell_type": "code",
      "metadata": {
        "colab": {
          "base_uri": "https://localhost:8080/"
        },
        "id": "2pGGf9BkPNIk",
        "outputId": "30ab83c1-bace-4c95-fbdd-e881448aff8b"
      },
      "source": [
        "%%writefile APlusB.cpp\n",
        "#include <iostream>\n",
        "\n",
        "int sum_of_two_digits(int first_digit, int second_digit) {\n",
        "    return first_digit + second_digit;\n",
        "}\n",
        "\n",
        "int main() {\n",
        "    int a = 0;\n",
        "    int b = 0;\n",
        "    std::cin >> a;\n",
        "    std::cin >> b;\n",
        "    std::cout << sum_of_two_digits(a, b);\n",
        "    return 0;\n",
        "}"
      ],
      "execution_count": null,
      "outputs": [
        {
          "output_type": "stream",
          "name": "stdout",
          "text": [
            "Writing APlusB.cpp\n"
          ]
        }
      ]
    },
    {
      "cell_type": "code",
      "metadata": {
        "colab": {
          "base_uri": "https://localhost:8080/"
        },
        "id": "0G3ZKOYAPXSU",
        "outputId": "877f9b12-2c97-4b42-90a6-f411726f7687"
      },
      "source": [
        "!g++ APlusB.cpp -o APlusB \n",
        "!./APlusB"
      ],
      "execution_count": null,
      "outputs": [
        {
          "output_type": "stream",
          "name": "stdout",
          "text": [
            "3\n",
            "4\n",
            "7"
          ]
        }
      ]
    },
    {
      "cell_type": "markdown",
      "metadata": {
        "id": "iNkG2HqfTl9c"
      },
      "source": [
        "### Test input output files"
      ]
    },
    {
      "cell_type": "code",
      "metadata": {
        "colab": {
          "base_uri": "https://localhost:8080/"
        },
        "id": "aTzU2efzMxly",
        "outputId": "f7b5f17f-4bc8-4159-830e-68b8a9cbe880"
      },
      "source": [
        "%%writefile input1.txt\n",
        "4 8"
      ],
      "execution_count": null,
      "outputs": [
        {
          "output_type": "stream",
          "name": "stdout",
          "text": [
            "Writing input1.txt\n"
          ]
        }
      ]
    },
    {
      "cell_type": "markdown",
      "metadata": {
        "id": "pdkfsvs-T0Wr"
      },
      "source": []
    },
    {
      "cell_type": "code",
      "metadata": {
        "colab": {
          "base_uri": "https://localhost:8080/"
        },
        "id": "zBJ0Gc0NQRet",
        "outputId": "e4d5a566-2a97-4f57-da1e-d63eb536c1e3"
      },
      "source": [
        "%%writefile output1.txt\n",
        "12"
      ],
      "execution_count": null,
      "outputs": [
        {
          "output_type": "stream",
          "name": "stdout",
          "text": [
            "Writing output1.txt\n"
          ]
        }
      ]
    },
    {
      "cell_type": "code",
      "metadata": {
        "colab": {
          "base_uri": "https://localhost:8080/"
        },
        "id": "IjEcIx63PJAN",
        "outputId": "e5dabe4d-887f-4d24-df5a-b078c656830b"
      },
      "source": [
        "%%writefile input2.txt\n",
        "-5 9"
      ],
      "execution_count": null,
      "outputs": [
        {
          "output_type": "stream",
          "name": "stdout",
          "text": [
            "Writing input2.txt\n"
          ]
        }
      ]
    },
    {
      "cell_type": "code",
      "metadata": {
        "colab": {
          "base_uri": "https://localhost:8080/"
        },
        "id": "Up9gOrxURTmd",
        "outputId": "9e334944-6d00-4518-c19d-1d48749733d6"
      },
      "source": [
        "%%writefile output2.txt\n",
        "4"
      ],
      "execution_count": null,
      "outputs": [
        {
          "output_type": "stream",
          "name": "stdout",
          "text": [
            "Writing output2.txt\n"
          ]
        }
      ]
    },
    {
      "cell_type": "code",
      "metadata": {
        "colab": {
          "base_uri": "https://localhost:8080/"
        },
        "id": "PST6G-s-Pwgc",
        "outputId": "868d0b59-6396-4255-cd0f-efbabb76344f"
      },
      "source": [
        "!./APlusB < input1.txt"
      ],
      "execution_count": null,
      "outputs": [
        {
          "output_type": "stream",
          "name": "stdout",
          "text": [
            "12"
          ]
        }
      ]
    },
    {
      "cell_type": "code",
      "metadata": {
        "colab": {
          "base_uri": "https://localhost:8080/"
        },
        "id": "cKxZOjSlRfIN",
        "outputId": "d752a2b9-75c3-423d-b12a-f178f2c8c46c"
      },
      "source": [
        "!./APlusB < input2.txt"
      ],
      "execution_count": null,
      "outputs": [
        {
          "output_type": "stream",
          "name": "stdout",
          "text": [
            "4"
          ]
        }
      ]
    },
    {
      "cell_type": "markdown",
      "metadata": {
        "id": "Qw2TQWCCUwqk"
      },
      "source": [
        "### Comparing files with grep\n",
        "\n",
        "https://askubuntu.com/questions/546796/comparing-two-text-files"
      ]
    },
    {
      "cell_type": "code",
      "metadata": {
        "id": "WVIaAmMKU4QM"
      },
      "source": [
        "!grep -xvFf output1.txt output1.txt "
      ],
      "execution_count": null,
      "outputs": []
    },
    {
      "cell_type": "code",
      "metadata": {
        "colab": {
          "base_uri": "https://localhost:8080/"
        },
        "id": "MQU8gPPjQuYO",
        "outputId": "ec7288a7-1795-4cc4-99e5-f9aa8ea0a5c4"
      },
      "source": [
        "!grep -xvFf output1.txt output2.txt "
      ],
      "execution_count": null,
      "outputs": [
        {
          "output_type": "stream",
          "name": "stdout",
          "text": [
            "4\n"
          ]
        }
      ]
    },
    {
      "cell_type": "code",
      "metadata": {
        "colab": {
          "base_uri": "https://localhost:8080/"
        },
        "id": "jYL9OuYBTD_l",
        "outputId": "844fd42e-fa8b-4564-ba43-d0c02069d121"
      },
      "source": [
        "!grep -xvFf output2.txt output1.txt "
      ],
      "execution_count": null,
      "outputs": [
        {
          "output_type": "stream",
          "name": "stdout",
          "text": [
            "12\n"
          ]
        }
      ]
    },
    {
      "cell_type": "code",
      "metadata": {
        "id": "Jlja0Xm4TX9M"
      },
      "source": [
        "!./APlusB < input1.txt> ctest1.txt\n",
        "!grep -xvFf output1.txt ctest1.txt"
      ],
      "execution_count": null,
      "outputs": []
    },
    {
      "cell_type": "code",
      "metadata": {
        "id": "g9OIUZA_QLCQ"
      },
      "source": [
        "!./APlusB < input2.txt > ctest2.txt\n",
        "!grep -xvFf output2.txt ctest2.txt"
      ],
      "execution_count": null,
      "outputs": []
    },
    {
      "cell_type": "markdown",
      "metadata": {
        "id": "3BgOaDjUVJk6"
      },
      "source": [
        "## Python"
      ]
    },
    {
      "cell_type": "code",
      "metadata": {
        "colab": {
          "base_uri": "https://localhost:8080/"
        },
        "id": "DBvl-T0CTN_8",
        "outputId": "d13eddbc-09ab-4cf7-cf38-a305797442b2"
      },
      "source": [
        "%%writefile sum.py\n",
        "# python3\n",
        "\n",
        "def sum_of_two_digits(first_digit, second_digit):\n",
        "    return first_digit + second_digit\n",
        "\n",
        "if __name__ == '__main__':\n",
        "    a, b = map(int, input().split())\n",
        "    print(sum_of_two_digits(a, b))"
      ],
      "execution_count": null,
      "outputs": [
        {
          "output_type": "stream",
          "name": "stdout",
          "text": [
            "Writing sum.py\n"
          ]
        }
      ]
    },
    {
      "cell_type": "code",
      "metadata": {
        "colab": {
          "base_uri": "https://localhost:8080/"
        },
        "id": "QKoKM11_WGyF",
        "outputId": "f3d31492-3781-4da6-9d53-f8c9f3f2314f"
      },
      "source": [
        "!python sum.py"
      ],
      "execution_count": null,
      "outputs": [
        {
          "output_type": "stream",
          "name": "stdout",
          "text": [
            "90 13\n",
            "103\n"
          ]
        }
      ]
    },
    {
      "cell_type": "code",
      "metadata": {
        "id": "cocFbPRTWrqt"
      },
      "source": [
        "!python sum.py  < input1.txt> ptest1.txt\n",
        "!grep -xvFf output1.txt ptest1.txt"
      ],
      "execution_count": null,
      "outputs": []
    },
    {
      "cell_type": "code",
      "metadata": {
        "id": "MorKTa-XXASN"
      },
      "source": [
        "!python sum.py  < input2.txt> ptest2.txt\n",
        "!grep -xvFf output2.txt ptest2.txt"
      ],
      "execution_count": null,
      "outputs": []
    },
    {
      "cell_type": "markdown",
      "metadata": {
        "id": "uvP-mOubW_5F"
      },
      "source": [
        "# II Solving The Maximum Pairwise Product Programming Challenge in C++"
      ]
    },
    {
      "cell_type": "markdown",
      "metadata": {
        "id": "C12yoFR6Xonl"
      },
      "source": [
        "## C++"
      ]
    },
    {
      "cell_type": "code",
      "metadata": {
        "colab": {
          "base_uri": "https://localhost:8080/"
        },
        "id": "YL4qJX3tXxdd",
        "outputId": "66e8f0fa-0e03-4001-ac07-722d91d3f150"
      },
      "source": [
        "%%writefile max_pairwise_product.cpp\n",
        "#include <iostream>\n",
        "#include <vector>\n",
        "#include <algorithm>\n",
        "\n",
        "int MaxPairwiseProduct(const std::vector<int>& numbers) {\n",
        "    int max_product = 0;\n",
        "    int n = numbers.size();\n",
        "\n",
        "    for (int first = 0; first < n; ++first) {\n",
        "        for (int second = first + 1; second < n; ++second) {\n",
        "            max_product = std::max(max_product,\n",
        "                numbers[first] * numbers[second]);\n",
        "        }\n",
        "    }\n",
        "\n",
        "    return max_product;\n",
        "}\n",
        "\n",
        "int main() {\n",
        "    int n;\n",
        "    std::cin >> n;\n",
        "    std::vector<int> numbers(n);\n",
        "    for (int i = 0; i < n; ++i) {\n",
        "        std::cin >> numbers[i];\n",
        "    }\n",
        "\n",
        "    std::cout << MaxPairwiseProduct(numbers) << \"\\n\";\n",
        "    return 0;\n",
        "}\n"
      ],
      "execution_count": null,
      "outputs": [
        {
          "output_type": "stream",
          "name": "stdout",
          "text": [
            "Writing max_pairwise_product.cpp\n"
          ]
        }
      ]
    },
    {
      "cell_type": "code",
      "metadata": {
        "colab": {
          "base_uri": "https://localhost:8080/"
        },
        "id": "KGxaEjvWX__O",
        "outputId": "0e2710ec-d1ff-437c-da22-8f4b5978ecd8"
      },
      "source": [
        "!g++ max_pairwise_product.cpp -o max_pairwise_product\n",
        "!./max_pairwise_product"
      ],
      "execution_count": null,
      "outputs": [
        {
          "output_type": "stream",
          "name": "stdout",
          "text": [
            "3\n",
            "5\n",
            "6\n",
            "1\n",
            "30\n"
          ]
        }
      ]
    },
    {
      "cell_type": "markdown",
      "metadata": {
        "id": "e7KhxHGNS3i0"
      },
      "source": [
        "### Test 1: Small numbers"
      ]
    },
    {
      "cell_type": "code",
      "metadata": {
        "colab": {
          "base_uri": "https://localhost:8080/"
        },
        "id": "e1mmTzBgShT-",
        "outputId": "681ca1a7-42bf-4f4b-a764-d1f423ea0e24"
      },
      "source": [
        "%%writefile input1.txt\n",
        "10\n",
        "1 2 3 4 5 6 7 8 9 10"
      ],
      "execution_count": null,
      "outputs": [
        {
          "output_type": "stream",
          "name": "stdout",
          "text": [
            "Overwriting input1.txt\n"
          ]
        }
      ]
    },
    {
      "cell_type": "code",
      "metadata": {
        "colab": {
          "base_uri": "https://localhost:8080/"
        },
        "id": "vy_uI0x7TCId",
        "outputId": "6ec6f264-f20e-4e53-d05c-39a612442da9"
      },
      "source": [
        "!./max_pairwise_product < input1.txt"
      ],
      "execution_count": null,
      "outputs": [
        {
          "output_type": "stream",
          "name": "stdout",
          "text": [
            "90\n"
          ]
        }
      ]
    },
    {
      "cell_type": "markdown",
      "metadata": {
        "id": "IeZ3kTjpYmR9"
      },
      "source": [
        "### Test 2: largest input numbers 200000 200000 in the input"
      ]
    },
    {
      "cell_type": "code",
      "metadata": {
        "colab": {
          "base_uri": "https://localhost:8080/"
        },
        "id": "LQNlZqaqYt7U",
        "outputId": "e847faf2-5d71-4871-f5fe-837d23de9526"
      },
      "source": [
        "%%writefile input2.txt\n",
        "6\n",
        "1 3 200000 9 200000 23"
      ],
      "execution_count": null,
      "outputs": [
        {
          "output_type": "stream",
          "name": "stdout",
          "text": [
            "Overwriting input2.txt\n"
          ]
        }
      ]
    },
    {
      "cell_type": "code",
      "metadata": {
        "colab": {
          "base_uri": "https://localhost:8080/"
        },
        "id": "2Wad2VZUZDxR",
        "outputId": "8462a0ee-19ae-4510-ef4d-9daea36244f9"
      },
      "source": [
        "!./max_pairwise_product < input2.txt"
      ],
      "execution_count": null,
      "outputs": [
        {
          "output_type": "stream",
          "name": "stdout",
          "text": [
            "1345294336\n"
          ]
        }
      ]
    },
    {
      "cell_type": "markdown",
      "metadata": {
        "id": "H2SC0Qt5HCzz"
      },
      "source": [
        "Changing the variables to long long"
      ]
    },
    {
      "cell_type": "code",
      "metadata": {
        "colab": {
          "base_uri": "https://localhost:8080/"
        },
        "id": "MPcmsxiQZSfE",
        "outputId": "83a248b1-16a9-499a-ba1e-e51555378cdd"
      },
      "source": [
        "%%writefile max_pairwise_product_long.cpp\n",
        "#include <iostream>\n",
        "#include <vector>\n",
        "#include <algorithm>\n",
        "\n",
        "long long MaxPairwiseProduct(const std::vector<int>& numbers) {\n",
        "    long long max_product = 0LL;\n",
        "\t  long long aux_product = 0LL;\n",
        "    int n = numbers.size();\n",
        "\n",
        "    for (int first = 0; first < n; ++first) {\n",
        "        for (int second = first + 1; second < n; ++second) {\n",
        "\t\t\t       aux_product =  (long long) numbers[first] * numbers[second];\n",
        "            if ( max_product < aux_product)  {\n",
        "\t\t\t\t        max_product = aux_product;\n",
        "             }\n",
        "        }\n",
        "    }\n",
        "\n",
        "    return max_product;\n",
        "}\n",
        "\n",
        "int main() {\n",
        "    int n;\n",
        "    std::cin >> n;\n",
        "    std::vector<int> numbers(n);\n",
        "    for (int i = 0; i < n; ++i) {\n",
        "        std::cin >> numbers[i];\n",
        "    }\n",
        "\n",
        "    std::cout << MaxPairwiseProduct(numbers) << \"\\n\";\n",
        "    return 0;\n",
        "}\n"
      ],
      "execution_count": null,
      "outputs": [
        {
          "output_type": "stream",
          "name": "stdout",
          "text": [
            "Writing max_pairwise_product_long.cpp\n"
          ]
        }
      ]
    },
    {
      "cell_type": "code",
      "metadata": {
        "colab": {
          "base_uri": "https://localhost:8080/"
        },
        "id": "I5pCeOG1Zm7s",
        "outputId": "a2d9df0e-e1ee-45ba-83ab-b1248bbdb84c"
      },
      "source": [
        "!g++ max_pairwise_product_long.cpp -o max_pairwise_product_long\n",
        "!./max_pairwise_product_long < input1.txt\n",
        "!./max_pairwise_product_long < input2.txt"
      ],
      "execution_count": null,
      "outputs": [
        {
          "output_type": "stream",
          "name": "stdout",
          "text": [
            "90\n",
            "40000000000\n"
          ]
        }
      ]
    },
    {
      "cell_type": "markdown",
      "metadata": {
        "id": "XPVHkHxH6_7s"
      },
      "source": [
        "### Test 3  stress tests 20  times  random n in [2, 20] "
      ]
    },
    {
      "cell_type": "code",
      "source": [
        "%%writefile input3.txt\n",
        "20"
      ],
      "metadata": {
        "colab": {
          "base_uri": "https://localhost:8080/"
        },
        "id": "xXNqRmsOxqy9",
        "outputId": "5b69bdc5-610e-4f34-de32-dd5f63417011"
      },
      "execution_count": null,
      "outputs": [
        {
          "output_type": "stream",
          "name": "stdout",
          "text": [
            "Overwriting input3.txt\n"
          ]
        }
      ]
    },
    {
      "cell_type": "code",
      "metadata": {
        "id": "PwqpBmYr69fu",
        "colab": {
          "base_uri": "https://localhost:8080/"
        },
        "outputId": "049e3239-3da1-424f-f645-8889c9744e03"
      },
      "source": [
        "%%writefile random_stress.cpp\n",
        "#include <iostream>\n",
        "#include <cstdlib>\n",
        "#include <ctime>\n",
        "\n",
        "using namespace std;\n",
        "\n",
        "int main() {\n",
        "  int n;\n",
        "  cin>>n;\n",
        "\n",
        "  srand(time(NULL));\n",
        "\n",
        "  for(int i=0; i<n; i++){\n",
        "    int num=rand() % 19+2;\n",
        "    cout<<num<<endl;\n",
        "  }\n",
        "  return 0;\n",
        "  }\n",
        "\n"
      ],
      "execution_count": null,
      "outputs": [
        {
          "output_type": "stream",
          "name": "stdout",
          "text": [
            "Overwriting random_stress.cpp\n"
          ]
        }
      ]
    },
    {
      "cell_type": "code",
      "source": [
        "!g++ random_stress.cpp -o random_stress\n",
        "!./random_stress < input3.txt"
      ],
      "metadata": {
        "colab": {
          "base_uri": "https://localhost:8080/"
        },
        "id": "dRPZ90UpyYFU",
        "outputId": "c13d8e65-d829-418d-def3-9cd59ee1bf7e"
      },
      "execution_count": null,
      "outputs": [
        {
          "output_type": "stream",
          "name": "stdout",
          "text": [
            "3\n",
            "7\n",
            "15\n",
            "19\n",
            "3\n",
            "20\n",
            "17\n",
            "20\n",
            "10\n",
            "20\n",
            "3\n",
            "5\n",
            "4\n",
            "7\n",
            "20\n",
            "2\n",
            "6\n",
            "6\n",
            "15\n",
            "5\n"
          ]
        }
      ]
    },
    {
      "cell_type": "markdown",
      "metadata": {
        "id": "9z9yr5QkeyJF"
      },
      "source": [
        "### Test 4  time test  measure the execution time running with the the largest worst case file (200000 increasing numbers, 200000 and 200000 the end) "
      ]
    },
    {
      "cell_type": "code",
      "metadata": {
        "id": "oLiMjbAIfPlX",
        "colab": {
          "base_uri": "https://localhost:8080/"
        },
        "outputId": "066c6309-40c0-46c5-b648-a75534a315d6"
      },
      "source": [
        "%%writefile Test2Write.cpp\n",
        "\n",
        "#include <iostream>\n",
        "#include <fstream>\n",
        "#include <cstdlib>\n",
        "\n",
        "using namespace std;\n",
        "\n",
        "int main() {\n",
        "  // Create and open a text file\n",
        "  ofstream MyFile(\"input3.txt\");\n",
        "\n",
        " MyFile << 200000 <<\"\\n\";  // n \n",
        " for (int i=1; i < 200001; i++){\n",
        "     MyFile << i <<\" \";\n",
        " }\n",
        "  \n",
        "  // Close the file\n",
        "  MyFile.close();\n",
        "}"
      ],
      "execution_count": null,
      "outputs": [
        {
          "output_type": "stream",
          "name": "stdout",
          "text": [
            "Writing Test2Write.cpp\n"
          ]
        }
      ]
    },
    {
      "cell_type": "code",
      "metadata": {
        "id": "EH25TkOkZfD9"
      },
      "source": [
        "!g++ Test2Write.cpp -o Test2Write\n",
        "!./Test2Write"
      ],
      "execution_count": null,
      "outputs": []
    },
    {
      "cell_type": "markdown",
      "metadata": {
        "id": "JB6f03qO-lj9"
      },
      "source": [
        "Measure time\n",
        "\n",
        "https://askubuntu.com/questions/53444/how-can-i-measure-the-execution-time-of-a-terminal-process"
      ]
    },
    {
      "cell_type": "code",
      "metadata": {
        "colab": {
          "base_uri": "https://localhost:8080/"
        },
        "id": "6p2QLEr576zk",
        "outputId": "c80fc368-dcf7-4df9-b941-bd1b71cc9ae7"
      },
      "source": [
        "!g++ max_pairwise_product_long.cpp -o max_pairwise_product_long\n",
        "!time ./max_pairwise_product_long < input3.txt"
      ],
      "execution_count": null,
      "outputs": [
        {
          "output_type": "stream",
          "name": "stdout",
          "text": [
            "39999800000\n",
            "39999800000\n",
            "\n",
            "real\t2m23.095s\n",
            "user\t2m21.535s\n",
            "sys\t0m0.063s\n"
          ]
        }
      ]
    },
    {
      "cell_type": "markdown",
      "metadata": {
        "id": "AmZeB2wYjxy5"
      },
      "source": [
        "##### Calculate  the number of instructions executed by the algorithm as a function of n, add in each line a comment with the number of instructions that are executed in that line \n",
        "\n",
        "```cpp\n",
        " int main() {                         //N inst exec by line executed  \n",
        "   \n",
        "    int n;                            //1                      \n",
        "    std::cin >> n;                    //1\n",
        "                                              \n",
        "    std::vector<int> numbers(n);      //n    init vector\n",
        "    .\n",
        "    .\n",
        " }\n",
        "\n",
        "```"
      ]
    },
    {
      "cell_type": "code",
      "metadata": {
        "colab": {
          "base_uri": "https://localhost:8080/"
        },
        "id": "djGX3FL13g9b",
        "outputId": "035ab5d1-839b-4a15-f922-818a56f9416c"
      },
      "source": [
        "%%writefile test_init_vectors.cpp\n",
        "#include <iostream>\n",
        "#include <vector>\n",
        "#include <algorithm>\n",
        "int main() {                                                               \n",
        "    int n = 10;                                                                                                                            //1\n",
        "    std::vector<int> numbers(n);                                            \n",
        "    for (int i = 0; i < n; ++i) {                                           \n",
        "        std::cout << numbers[i];                                             \n",
        "    }\n",
        "\n",
        "    std::cout << \"\\n\";                       \n",
        "    return 0;                                                              \n",
        "}  "
      ],
      "execution_count": null,
      "outputs": [
        {
          "output_type": "stream",
          "name": "stdout",
          "text": [
            "Writing test_init_vectors.cpp\n"
          ]
        }
      ]
    },
    {
      "cell_type": "code",
      "metadata": {
        "colab": {
          "base_uri": "https://localhost:8080/"
        },
        "id": "44gZcuE237-1",
        "outputId": "0c5e7008-8d56-45a5-9270-4c8e994150f9"
      },
      "source": [
        "!g++ test_init_vectors.cpp -o test_init_vectors\n",
        "!./test_init_vectors"
      ],
      "execution_count": null,
      "outputs": [
        {
          "output_type": "stream",
          "name": "stdout",
          "text": [
            "0000000000\n"
          ]
        }
      ]
    },
    {
      "cell_type": "code",
      "metadata": {
        "colab": {
          "base_uri": "https://localhost:8080/"
        },
        "id": "uG6Mv-Pwlkii",
        "outputId": "4a0dd168-d68d-41b2-d2e4-9be5d3e6e686"
      },
      "source": [
        "%%writefile max_pairwise_product_long.cpp\n",
        "#include <iostream>\n",
        "#include <vector>\n",
        "#include <algorithm>\n",
        "\n",
        "long long MaxPairwiseProduct(const std::vector<int>& numbers) {              //N inst exec by line executed \n",
        "    long long max_product = 0LL;                                             //1                                          \n",
        "\t  long long aux_product = 0LL;                                             //1 \n",
        "    int n = numbers.size();                                                  //1 \n",
        "                                                                             \n",
        "    for (int first = 0; first < n; ++first) {                                //1+2n  \n",
        "        for (int second = first + 1; second < n; ++second) {                 //n + (n-1)n \n",
        "\t\t\t       aux_product =  (long long) numbers[first] * numbers[second];    //(n-1)n/2 \n",
        "            if (max_product < aux_product)  {                                //(n-1)n/2 \n",
        "\t\t\t\t        max_product = aux_product;                                   //[0, (n-1)n/2] \n",
        "             }\n",
        "        }\n",
        "    }\n",
        "                                                                             // -------------- \n",
        "    return max_product;                                                      // 4 + 3n + [2(n-1)n, 2.5 (n-1)n] \n",
        "}\n",
        "\n",
        "int main() {                                              //N inst exec by line executed \n",
        "    int n;                                                //1  \n",
        "    std::cin >> n;                                        //1\n",
        "    std::vector<int> numbers(n);                          //n\n",
        "    for (int i = 0; i < n; ++i) {                         //1 + 2n\n",
        "        std::cin >> numbers[i];                           //n\n",
        "    }\n",
        "\n",
        "    std::cout << MaxPairwiseProduct(numbers) << \"\\n\";     //1 + 1  + 4 + 3n + [2(n-1)n, 2.5 (n-1)n]\n",
        "    return 0;                                             // -------------- \n",
        "}                                                         // 9 + 7n + [2(n-1)n, 2.5 (n-1)n]\n"
      ],
      "execution_count": null,
      "outputs": [
        {
          "output_type": "stream",
          "name": "stdout",
          "text": [
            "Overwriting max_pairwise_product_long.cpp\n"
          ]
        }
      ]
    },
    {
      "cell_type": "markdown",
      "metadata": {
        "id": "0vTsUg8OwcHs"
      },
      "source": [
        "Count executed intructions in code and verify with inputs 1, 2 and 3"
      ]
    },
    {
      "cell_type": "code",
      "metadata": {
        "colab": {
          "base_uri": "https://localhost:8080/"
        },
        "id": "CuRKkqQc137V",
        "outputId": "1f65f3f1-c064-493e-83ae-ef36dea21a5d"
      },
      "source": [
        "%%writefile max_pairwise_product_long_execints.cpp\n",
        "#include <iostream>\n",
        "#include <vector>\n",
        "#include <algorithm>\n",
        "\n",
        "long long MaxPairwiseProduct(const std::vector<int>& numbers, long long &execints) {              //N inst exec by line executed \n",
        "    \n",
        "    long long m = 0LL;                                                       //1\n",
        "    \n",
        "    long long max_product = 0LL;                                             //1\n",
        "    execints++;\n",
        "\n",
        "\t  long long aux_product = 0LL;                                             //1\n",
        "    execints++;\n",
        "\n",
        "    int n = numbers.size();                                                  //1 \n",
        "    execints++;\n",
        "\n",
        "    execints++;                                                                         \n",
        "    for (int first = 0; first < n; ++first) {                                //1+2n  \n",
        "        execints += 2;\n",
        "\n",
        "        long long m = 0LL;\n",
        "\n",
        "        execints++;                                    \n",
        "        for (int second = first + 1; second < n; ++second) {                 //n+ (n-1)n \n",
        "            execints += 2;                                                \n",
        "\n",
        "\t\t\t      aux_product =  (long long) numbers[first] * numbers[second];    //(n-1)n/2 \n",
        "            execints++; \n",
        "\n",
        "            execints++; \n",
        "            if ( max_product < aux_product)  {                               //(n-1)n/2 \n",
        "                       \n",
        "\t\t\t\t        max_product = aux_product;                                   //[0, (n-1)n/2] \n",
        "                execints++; \n",
        "                m++;\n",
        "             }\n",
        "        }\n",
        "        if ( (first <= 10) || (n- first <= 10)) std::cout << m << \"\\n\";\n",
        "    }\n",
        "                                                                            // -------------- \n",
        "    return max_product;                                                     // 4 + 3n + [2(n-1)n, 2.5 (n-1)n] \n",
        "}\n",
        "\n",
        "int main() {                                                 //N inst exec by line executed \n",
        "    long long execints =0LL;\n",
        "\n",
        "    int n;                                                   //1\n",
        "    execints++;                                                              \n",
        "    \n",
        "    std::cin >> n;                                           //1\n",
        "    execints++;\n",
        "\n",
        "    std::vector<int> numbers(n);                             //n\n",
        "    execints += n;\n",
        "    \n",
        "    execints++;\n",
        "    for (int i = 0; i < n; ++i) {                            //1 + 2n\n",
        "        execints += 2;\n",
        "\n",
        "        std::cin >> numbers[i];\n",
        "        execints++;                                          //n\n",
        "    }\n",
        "    \n",
        "    //std::cout << MaxPairwiseProduct(numbers) << \"\\n\";      //1 + 1  + 4 + 3n + [2(n-1)n, 2.5 (n-1)n]\n",
        "\n",
        "    execints++;\n",
        "    int M = MaxPairwiseProduct(numbers,execints);\n",
        "\n",
        "    execints++;\n",
        "    std::cout <<  execints << \"\\n\";                       \n",
        "    return 0;                                                // -------------- \n",
        "}                                                            // 9 + 7n + [2(n-1)n, 2.5 (n-1)n]"
      ],
      "execution_count": null,
      "outputs": [
        {
          "output_type": "stream",
          "name": "stdout",
          "text": [
            "Writing max_pairwise_product_long_execints.cpp\n"
          ]
        }
      ]
    },
    {
      "cell_type": "code",
      "metadata": {
        "colab": {
          "base_uri": "https://localhost:8080/"
        },
        "id": "Kuvm1C05ly2a",
        "outputId": "332961e8-32a7-43c0-fd87-5b734b4e7c57"
      },
      "source": [
        "!g++ max_pairwise_product_long_execints.cpp -o max_pairwise_product_long_execints\n",
        "!./max_pairwise_product_long_execints < input1.txt\n",
        "!./max_pairwise_product_long_execints < input2.txt\n",
        "!./max_pairwise_product_long_execints < input3.txt"
      ],
      "execution_count": null,
      "outputs": [
        {
          "output_type": "stream",
          "name": "stdout",
          "text": [
            "9\n",
            "5\n",
            "4\n",
            "3\n",
            "2\n",
            "2\n",
            "2\n",
            "2\n",
            "1\n",
            "0\n",
            "289\n",
            "2\n",
            "1\n",
            "2\n",
            "0\n",
            "0\n",
            "0\n",
            "116\n",
            "199999\n",
            "100000\n",
            "66667\n",
            "50000\n",
            "40000\n",
            "33334\n",
            "28572\n",
            "25000\n",
            "22223\n",
            "20000\n",
            "18182\n",
            "2\n",
            "2\n",
            "2\n",
            "2\n",
            "2\n",
            "2\n",
            "2\n",
            "2\n",
            "1\n",
            "0\n",
            "80003672077\n"
          ]
        }
      ]
    },
    {
      "cell_type": "markdown",
      "metadata": {
        "id": "L_uaamxeAHK7"
      },
      "source": [
        "The number of instructions executed by the algooirithm with a list of size $n$ is  \n",
        "\n",
        "$$T = 9 + 7n + [2(n-1)n, 2.5 (n-1)n]$$\n",
        "\n",
        "It depends on the size of the lists and  the order of the list.\n",
        "\n",
        "For the input1.txt \n",
        "```\n",
        "10\n",
        "1 2 3 4 5 6 7 8 9 10\n",
        "```\n",
        "$$T = 9 + 7(10) + 2(9)(10) +  9 + 5 + 4 + 3 + 2 + 2 + 2 + 2 + 1 + 0  = 289 $$\n",
        "\n",
        "For the input2.txt \n",
        "```\n",
        "6\n",
        "1 3 200000 9 200000 23\n",
        "```\n",
        "$$T = 9 + 7(6) + 2(5)(6)  +  2 + 1 + 2 + 0 + 0 + 0 = 116 $$\n",
        "\n",
        "\n",
        "For the input3.txt that is the worst case (n=200000 and list in incresing order)\n",
        "\n",
        "```\n",
        "200000\n",
        "1 2 3 4 5 6 7 8 9 10 ... 199998 199999 200000\n",
        "```\n",
        "\n",
        "$$\n",
        "\\begin{array}{ll}\n",
        "T &= 9 + 7(200000) + (2)(199999)(200000)  + (199999 +\n",
        "100000 + 66667 +50000 \\cdots 2 + 2 + 1)\\\\\n",
        "&= 80003672077  \\\\\n",
        "  &< 9 + 7(200000) + (2.5)(199999)(200000) \\\\\n",
        "  & = 100000900009\n",
        "\\end{array}\n",
        "  $$"
      ]
    },
    {
      "cell_type": "markdown",
      "metadata": {
        "id": "NXW7QkoBL6xH"
      },
      "source": [
        "Calculate estimated time by instruction and number of instructions by second"
      ]
    },
    {
      "cell_type": "code",
      "metadata": {
        "colab": {
          "base_uri": "https://localhost:8080/"
        },
        "id": "pKqB3i7dIxnc",
        "outputId": "18affcaf-5a81-4f65-b755-9742ca630391"
      },
      "source": [
        "# Estimated time by instruction\n",
        "\n",
        "128/80003672077 \n"
      ],
      "execution_count": null,
      "outputs": [
        {
          "output_type": "execute_result",
          "data": {
            "text/plain": [
              "1.5999265618308827e-09"
            ]
          },
          "metadata": {},
          "execution_count": 45
        }
      ]
    },
    {
      "cell_type": "code",
      "metadata": {
        "colab": {
          "base_uri": "https://localhost:8080/"
        },
        "id": "18N1ouqeMhE1",
        "outputId": "b6fb32eb-17df-40af-9f63-13a593a05552"
      },
      "source": [
        "# Estimated number of instructions by second\n",
        "\n",
        "1/(128/80003672077) "
      ],
      "execution_count": null,
      "outputs": [
        {
          "output_type": "execute_result",
          "data": {
            "text/plain": [
              "625028688.1015625"
            ]
          },
          "metadata": {},
          "execution_count": 46
        }
      ]
    },
    {
      "cell_type": "markdown",
      "metadata": {
        "id": "CQufozXLNJwO"
      },
      "source": [
        "### Efficient solution"
      ]
    },
    {
      "cell_type": "markdown",
      "metadata": {
        "id": "nLcKBwbU0QsE"
      },
      "source": [
        "Add in each line a coment with the number of intstrcution that are executed in that line"
      ]
    },
    {
      "cell_type": "code",
      "metadata": {
        "id": "knls5Fh3NSt_",
        "colab": {
          "base_uri": "https://localhost:8080/"
        },
        "outputId": "6200499e-fc95-4c22-887e-b452a429269b"
      },
      "source": [
        "%%writefile max_pairwise_product_efficient.cpp\n",
        "// We include the needed libraries for input/output and working with vectors\n",
        "#include <iostream>\n",
        "#include <vector>\n",
        "#include <algorithm>\n",
        "\n",
        "// This function helps us find the product of the two largest numbers in a list\n",
        "long long MaxPairwiseProduct(const std::vector<int>& numbers, long long &execints) {\n",
        "\n",
        "    // Find the size of the numbers list\n",
        "    int n = numbers.size();\n",
        "    execints++; //1\n",
        "\n",
        "    // Create a variable to remember the position of the largest number we've found so far\n",
        "    int max_index1 = -1;\n",
        "    execints++; //1\n",
        "\n",
        "    // Go through each number in the list\n",
        "    execints++; //1\n",
        "    for (int i = 0; i < n; ++i) {\n",
        "        execints += 2; //2\n",
        "\n",
        "        // If we find a number bigger than the current largest number, remember its position\n",
        "        if (max_index1 == -1 || numbers[i] > numbers[max_index1]) {\n",
        "            max_index1 = i;\n",
        "            execints++; //1\n",
        "        }\n",
        "    }\n",
        "\n",
        "    // Create another variable to remember the position of the second-largest number\n",
        "    int max_index2 = -1;\n",
        "    execints++; //1\n",
        "\n",
        "    // Go through each number in the list again, but skip the largest number we found earlier\n",
        "    execints++; //1\n",
        "    for (int i = 0; i < n; ++i) {\n",
        "        execints += 2; //2\n",
        "\n",
        "        // If we find a number bigger than the current second-largest number, and it's not the largest number, remember its position\n",
        "        if ((i != max_index1) && (max_index2 == -1 || numbers[i] > numbers[max_index2])) {\n",
        "            max_index2 = i;\n",
        "            execints++; //1\n",
        "        }\n",
        "    }\n",
        "\n",
        "    // Multiply the two largest numbers and return the result\n",
        "    return (long long) numbers[max_index1] * numbers[max_index2];\n",
        "}\n",
        "\n",
        "// This is the main part of the program that runs first\n",
        "int main() {\n",
        "    // A variable to count the number of instructions executed\n",
        "    long long execints = 0LL;\n",
        "\n",
        "    // Read the size of the numbers list from the user\n",
        "    int n;\n",
        "    execints++; //1\n",
        "\n",
        "    std::cin >> n;\n",
        "    execints++; //1\n",
        "\n",
        "    // Create a list of numbers with the size given by the user\n",
        "    std::vector<int> numbers(n);\n",
        "    execints += n; //n\n",
        "\n",
        "    // Read each number from the user and add it to the list\n",
        "    execints++; //1\n",
        "    for (int i = 0; i < n; ++i) {\n",
        "        execints += 2; //2\n",
        "\n",
        "        std::cin >> numbers[i];\n",
        "        execints++; //1\n",
        "    }\n",
        "\n",
        "    // Call the MaxPairwiseProduct function to find the product of the two largest numbers\n",
        "    execints++; //1\n",
        "    long long result = MaxPairwiseProduct(numbers, execints);\n",
        "\n",
        "    // Show the result and the number of instructions executed\n",
        "    execints++; //1\n",
        "    std::cout << result << \"\\n\";\n",
        "    std::cout << execints << \"\\n\";\n",
        "    return 0;\n",
        "}\n"
      ],
      "execution_count": null,
      "outputs": [
        {
          "output_type": "stream",
          "name": "stdout",
          "text": [
            "Overwriting max_pairwise_product_efficient.cpp\n"
          ]
        }
      ]
    },
    {
      "cell_type": "markdown",
      "metadata": {
        "id": "-JCijbWxNSii"
      },
      "source": [
        "Test with inputs 1 and 2\n",
        "\n"
      ]
    },
    {
      "cell_type": "code",
      "metadata": {
        "id": "TrTGAfqlNVXT",
        "colab": {
          "base_uri": "https://localhost:8080/"
        },
        "outputId": "3a3a83c8-aaec-4c7e-a57f-771c751b9b09"
      },
      "source": [
        "!g++ max_pairwise_product_efficient.cpp -o max_pairwise_product_efficient\n",
        "!./max_pairwise_product_efficient < input1.txt\n",
        "!./max_pairwise_product_efficient < input2.txt"
      ],
      "execution_count": null,
      "outputs": [
        {
          "output_type": "stream",
          "name": "stdout",
          "text": [
            "90\n",
            "109\n",
            "40000000000\n",
            "65\n"
          ]
        }
      ]
    },
    {
      "cell_type": "markdown",
      "metadata": {
        "id": "PRX51wADNR8b"
      },
      "source": [
        "Test and time it with input 3"
      ]
    },
    {
      "cell_type": "code",
      "metadata": {
        "id": "v4z7-Is_NRt7",
        "colab": {
          "base_uri": "https://localhost:8080/"
        },
        "outputId": "97f9aa60-0df3-4a2b-b817-b04c9e637516"
      },
      "source": [
        "!time ./max_pairwise_product_efficient < input3.txt"
      ],
      "execution_count": null,
      "outputs": [
        {
          "output_type": "stream",
          "name": "stdout",
          "text": [
            "39999800000\n",
            "2000009\n",
            "\n",
            "real\t0m0.059s\n",
            "user\t0m0.056s\n",
            "sys\t0m0.003s\n"
          ]
        }
      ]
    },
    {
      "cell_type": "markdown",
      "metadata": {
        "id": "rpdfs0_TNZJf"
      },
      "source": [
        "20 stress tests"
      ]
    },
    {
      "cell_type": "code",
      "metadata": {
        "id": "Lu4tYcKzNcTT",
        "colab": {
          "base_uri": "https://localhost:8080/"
        },
        "outputId": "e16136be-be11-4116-b143-735ac566209f"
      },
      "source": [
        "%%writefile max_pairwise_product_efficient_test3.cpp\n",
        "#include <iostream>\n",
        "#include <vector>\n",
        "#include <algorithm>\n",
        "#include <cstdlib>\n",
        "#include <ctime>\n",
        "#include <fstream>\n",
        "\n",
        "\n",
        "using namespace std;\n",
        "\n",
        "long long MaxPairwiseProduct(const std::vector<int>& numbers, long long &execints) {\n",
        "  \n",
        "    // Find the size of the numbers list\n",
        "    int n = numbers.size();\n",
        "    execints++; //1\n",
        "\n",
        "    // Create a variable to remember the position of the largest number we've found so far\n",
        "    int max_index1 = -1;\n",
        "    execints++; //1\n",
        "\n",
        "    // Go through each number in the list\n",
        "    execints++; //1\n",
        "    for (int i = 0; i < n; ++i) {\n",
        "        execints += 2; //2\n",
        "\n",
        "        // If we find a number bigger than the current largest number, remember its position\n",
        "        if (max_index1 == -1 || numbers[i] > numbers[max_index1]) {\n",
        "            max_index1 = i;\n",
        "            execints++; //1\n",
        "        }\n",
        "    }\n",
        "\n",
        "    // Create another variable to remember the position of the second-largest number\n",
        "    int max_index2 = -1;\n",
        "    execints++; //1\n",
        "\n",
        "    // Go through each number in the list again, but skip the largest number we found earlier\n",
        "    execints++; //1\n",
        "    for (int i = 0; i < n; ++i) {\n",
        "        execints += 2; //2\n",
        "\n",
        "        // If we find a number bigger than the current second-largest number, and it's not the largest number, remember its position\n",
        "        if ((i != max_index1) && (max_index2 == -1 || numbers[i] > numbers[max_index2])) {\n",
        "            max_index2 = i;\n",
        "            execints++; //1\n",
        "        }\n",
        "    }\n",
        "\n",
        "    // Multiply the two largest numbers and return the result\n",
        "    return (long long) numbers[max_index1] * numbers[max_index2];\n",
        "}\n",
        "\n",
        "\n",
        "int main() {\n",
        "    // List of input file names\n",
        "    vector<string> input_files = {\"input1.txt\", \"input2.txt\", \"input3.txt\"};\n",
        "\n",
        "    // Loop through the input files\n",
        "    for (const auto &file_name : input_files) {\n",
        "        // Open the input file\n",
        "        ifstream input_file(file_name);\n",
        "\n",
        "        if (input_file.is_open()) {\n",
        "            // A variable to count the number of instructions executed\n",
        "            long long execints = 0LL;\n",
        "\n",
        "            // Read the size of the numbers list from the input file\n",
        "            int n;\n",
        "            execints++; //1\n",
        "\n",
        "            input_file >> n;\n",
        "            execints++; //1\n",
        "\n",
        "            // Create a list of numbers with the size read from the input file\n",
        "            std::vector<int> numbers(n);\n",
        "            execints += n; //n\n",
        "\n",
        "            // Read each number from the input file and add it to the list\n",
        "            execints++; //1\n",
        "            for (int i = 0; i < n; ++i) {\n",
        "                execints += 2; //2\n",
        "\n",
        "                input_file >> numbers[i];\n",
        "                execints++; //1\n",
        "            }\n",
        "\n",
        "            // Close the input file\n",
        "            input_file.close();\n",
        "\n",
        "            // Call the MaxPairwiseProduct function to find the product of the two largest numbers\n",
        "            execints++; //1\n",
        "            long long result = MaxPairwiseProduct(numbers, execints);\n",
        "\n",
        "            // Show the result and the number of instructions executed\n",
        "            execints++; //1\n",
        "            std::cout << \"Result for file \" << file_name << \": \" << result << \"\\n\";\n",
        "            std::cout << \"Instructions executed: \" << execints << \"\\n\\n\";\n",
        "        } else {\n",
        "            cerr << \"Unable to open file \" << file_name << \"\\n\";\n",
        "        }\n",
        "    }\n",
        "\n",
        "    return 0;\n",
        "}\n"
      ],
      "execution_count": null,
      "outputs": [
        {
          "output_type": "stream",
          "name": "stdout",
          "text": [
            "Overwriting max_pairwise_product_efficient_test3.cpp\n"
          ]
        }
      ]
    },
    {
      "cell_type": "markdown",
      "metadata": {
        "id": "L8U4151JNbxk"
      },
      "source": [
        "Count executed instructions in code and verify with inputs 1,2 and 3\n"
      ]
    },
    {
      "cell_type": "code",
      "metadata": {
        "id": "dh85RM8vNhFz",
        "colab": {
          "base_uri": "https://localhost:8080/"
        },
        "outputId": "ad51a112-c6e9-49b7-ce8f-0726661a56ca"
      },
      "source": [
        "!g++ max_pairwise_product_efficient_test3.cpp -o max_pairwise_product_efficient_test3\n",
        "!./max_pairwise_product_efficient_test3 < input1.txt\n",
        "!./max_pairwise_product_efficient_test3 < input2.txt\n",
        "!./max_pairwise_product_efficient_test3 < input3.txt"
      ],
      "execution_count": null,
      "outputs": [
        {
          "output_type": "stream",
          "name": "stdout",
          "text": [
            "Result for file input1.txt: 90\n",
            "Instructions executed: 109\n",
            "\n",
            "Result for file input2.txt: 40000000000\n",
            "Instructions executed: 65\n",
            "\n",
            "Result for file input3.txt: 39999800000\n",
            "Instructions executed: 2000009\n",
            "\n",
            "Result for file input1.txt: 90\n",
            "Instructions executed: 109\n",
            "\n",
            "Result for file input2.txt: 40000000000\n",
            "Instructions executed: 65\n",
            "\n",
            "Result for file input3.txt: 39999800000\n",
            "Instructions executed: 2000009\n",
            "\n",
            "Result for file input1.txt: 90\n",
            "Instructions executed: 109\n",
            "\n",
            "Result for file input2.txt: 40000000000\n",
            "Instructions executed: 65\n",
            "\n",
            "Result for file input3.txt: 39999800000\n",
            "Instructions executed: 2000009\n",
            "\n"
          ]
        }
      ]
    },
    {
      "cell_type": "markdown",
      "metadata": {
        "id": "K6ybgCmpNygr"
      },
      "source": [
        "Calculate estimated time by instruction and number of instructions by second"
      ]
    },
    {
      "cell_type": "code",
      "metadata": {
        "id": "kwe3G1O3Nz1w",
        "colab": {
          "base_uri": "https://localhost:8080/"
        },
        "outputId": "6c1de12c-4bc7-4a2f-dc6f-b053d34d0919"
      },
      "source": [
        "1.097/2000009"
      ],
      "execution_count": null,
      "outputs": [
        {
          "output_type": "execute_result",
          "data": {
            "text/plain": [
              "5.48497531761107e-07"
            ]
          },
          "metadata": {},
          "execution_count": 74
        }
      ]
    },
    {
      "cell_type": "markdown",
      "metadata": {
        "id": "sc9nOLQrfTm0"
      },
      "source": [
        "### Super efficient solution\n",
        "\n",
        "Without storing the list in memory and Without calling a function, add in each line a coment with the number of instructions that are executed in that line "
      ]
    },
    {
      "cell_type": "code",
      "metadata": {
        "id": "hBLt_xBQLy8E",
        "colab": {
          "base_uri": "https://localhost:8080/"
        },
        "outputId": "2f33711c-4cc1-4c2f-f30b-b844b38894aa"
      },
      "source": [
        "%%writefile max_prw_prod_super.cpp\n",
        "#include <iostream>\n",
        "#include <algorithm>\n",
        "\n",
        "int main() {\n",
        "    // A variable to count the number of instructions executed\n",
        "    long long execints = 0LL;\n",
        "\n",
        "    // Read the size of the numbers list from the user\n",
        "    int n;\n",
        "    execints++; //1\n",
        "\n",
        "    std::cin >> n;\n",
        "    execints++; //1\n",
        "\n",
        "    // Initialize variables to store the two largest numbers without storing the entire list in memory\n",
        "    int max1 = -1, max2 = -1;\n",
        "    execints += 2; //2\n",
        "\n",
        "    int num;\n",
        "    execints++; //1\n",
        "\n",
        "    // Read each number from the user and update the two largest numbers if necessary\n",
        "    execints++; //1\n",
        "    for (int i = 0; i < n; ++i) {\n",
        "        execints += 2; //2\n",
        "\n",
        "        std::cin >> num;\n",
        "        execints++; //1\n",
        "\n",
        "        if (num > max1) {\n",
        "            max2 = max1;\n",
        "            max1 = num;\n",
        "            execints += 2; //2\n",
        "        } else if (num > max2) {\n",
        "            max2 = num;\n",
        "            execints++; //1\n",
        "        }\n",
        "    }\n",
        "\n",
        "    // Calculate the result as the product of the two largest numbers\n",
        "    long long result = static_cast<long long>(max1) * max2;\n",
        "    execints++; //1\n",
        "\n",
        "    // Show the result and the number of instructions executed\n",
        "    execints++; //1\n",
        "    std::cout << result << \"\\n\";\n",
        "    std::cout << execints << \"\\n\";\n",
        "    return 0;\n",
        "}\n"
      ],
      "execution_count": null,
      "outputs": [
        {
          "output_type": "stream",
          "name": "stdout",
          "text": [
            "Writing max_prw_prod_super.cpp\n"
          ]
        }
      ]
    },
    {
      "cell_type": "markdown",
      "metadata": {
        "id": "683gc3roHqzb"
      },
      "source": [
        "Test with inputs 1 and 2\n",
        "\n",
        "\n",
        " "
      ]
    },
    {
      "cell_type": "code",
      "metadata": {
        "id": "b7d4LA8OIc2_",
        "colab": {
          "base_uri": "https://localhost:8080/"
        },
        "outputId": "bcc5ddfc-548c-4f03-89cc-169983739d0c"
      },
      "source": [
        "!g++ max_prw_prod_super.cpp -o max_prw_prod_super\n",
        "!./max_prw_prod_super < input1.txt\n",
        "!./max_prw_prod_super < input2.txt"
      ],
      "execution_count": null,
      "outputs": [
        {
          "output_type": "stream",
          "name": "stdout",
          "text": [
            "90\n",
            "58\n",
            "40000000000\n",
            "34\n"
          ]
        }
      ]
    },
    {
      "cell_type": "markdown",
      "metadata": {
        "id": "36Ugn1odIeJz"
      },
      "source": [
        "Test and time it with input 3"
      ]
    },
    {
      "cell_type": "code",
      "metadata": {
        "id": "jDyMbCnxHqSN",
        "colab": {
          "base_uri": "https://localhost:8080/"
        },
        "outputId": "d8c76d80-04ec-47c8-b89b-5113eadeba21"
      },
      "source": [
        "!time ./max_prw_prod_super < input3.txt"
      ],
      "execution_count": null,
      "outputs": [
        {
          "output_type": "stream",
          "name": "stdout",
          "text": [
            "39999800000\n",
            "1000008\n",
            "\n",
            "real\t0m0.054s\n",
            "user\t0m0.051s\n",
            "sys\t0m0.003s\n"
          ]
        }
      ]
    },
    {
      "cell_type": "markdown",
      "metadata": {
        "id": "bhqiKQG6fjKM"
      },
      "source": [
        "20 stress tests "
      ]
    },
    {
      "cell_type": "code",
      "metadata": {
        "id": "2KsiXKhALzwm",
        "colab": {
          "base_uri": "https://localhost:8080/"
        },
        "outputId": "39f35ad8-3360-4501-f145-7d0914e25ee0"
      },
      "source": [
        "%%writefile max_prw_prod_super_test3.cpp\n",
        "#include <iostream>\n",
        "#include <algorithm>\n",
        "#include <cstdlib>\n",
        "#include <ctime>\n",
        "\n",
        "int main() {\n",
        "    // Seed the random number generator\n",
        "    srand(time(NULL));\n",
        "    \n",
        "    // A variable to count the number of instructions executed\n",
        "    long long execints = 0LL;\n",
        "\n",
        "    int n = 20;\n",
        "    execints++; //1\n",
        "\n",
        "    // Initialize variables to store the two largest numbers without storing the entire list in memory\n",
        "    int max1 = -1, max2 = -1;\n",
        "    execints += 2; //2\n",
        "\n",
        "    int num;\n",
        "    execints++; //1\n",
        "\n",
        "    // Generate and process random numbers, updating the two largest numbers if necessary\n",
        "    execints++; //1\n",
        "    for (int i = 0; i < n; ++i) {\n",
        "        execints += 2; //2\n",
        "\n",
        "        num = rand() % 19 + 2;\n",
        "        execints++; //1\n",
        "\n",
        "        if (num > max1) {\n",
        "            max2 = max1;\n",
        "            max1 = num;\n",
        "            execints += 2; //2\n",
        "        } else if (num > max2) {\n",
        "            max2 = num;\n",
        "            execints++; //1\n",
        "        }\n",
        "    }\n",
        "\n",
        "    // Calculate the result as the product of the two largest numbers\n",
        "    long long result = static_cast<long long>(max1) * max2;\n",
        "    execints++; //1\n",
        "\n",
        "    // Show the result and the number of instructions executed\n",
        "    execints++; //1\n",
        "    std::cout << \"Result: \" << result << \"\\n\";\n",
        "    std::cout << \"Instructions executed: \" << execints << \"\\n\";\n",
        "    return 0;\n",
        "}\n"
      ],
      "execution_count": null,
      "outputs": [
        {
          "output_type": "stream",
          "name": "stdout",
          "text": [
            "Writing max_prw_prod_super_test3.cpp\n"
          ]
        }
      ]
    },
    {
      "cell_type": "markdown",
      "metadata": {
        "id": "fEXj8GHJH5p1"
      },
      "source": [
        "Count executed instructions in code and verify with inputs 1,2 and 3"
      ]
    },
    {
      "cell_type": "code",
      "metadata": {
        "id": "LF1DHjKXIAsF",
        "colab": {
          "base_uri": "https://localhost:8080/"
        },
        "outputId": "75ab92a2-375c-4de3-d4b7-41b7b34e0938"
      },
      "source": [
        "!g++ max_prw_prod_super_test3.cpp -o max_prw_prod_super_test3\n",
        "!./max_prw_prod_super < input1.txt\n",
        "!./max_prw_prod_super < input2.txt\n",
        "!./max_prw_prod_super < input3.txt"
      ],
      "execution_count": null,
      "outputs": [
        {
          "output_type": "stream",
          "name": "stdout",
          "text": [
            "90\n",
            "58\n",
            "40000000000\n",
            "34\n",
            "39999800000\n",
            "1000008\n"
          ]
        }
      ]
    },
    {
      "cell_type": "markdown",
      "metadata": {
        "id": "yae7sSm2IG9U"
      },
      "source": [
        "Calculate estimated time by instruction and number of instructions by second"
      ]
    },
    {
      "cell_type": "code",
      "metadata": {
        "id": "suouY7BYL2dz",
        "colab": {
          "base_uri": "https://localhost:8080/"
        },
        "outputId": "2f3bc583-504d-40cf-ec2a-dcf6952d261d"
      },
      "source": [
        "!time ./max_prw_prod_super_test3 < input3.txt"
      ],
      "execution_count": null,
      "outputs": [
        {
          "output_type": "stream",
          "name": "stdout",
          "text": [
            "Result: 342\n",
            "Instructions executed: 74\n",
            "\n",
            "real\t0m0.002s\n",
            "user\t0m0.001s\n",
            "sys\t0m0.001s\n"
          ]
        }
      ]
    },
    {
      "cell_type": "code",
      "source": [
        "0.002/74"
      ],
      "metadata": {
        "colab": {
          "base_uri": "https://localhost:8080/"
        },
        "id": "ik3g8228EwUZ",
        "outputId": "e6ef28c6-611b-43ec-cbac-3527ae0606fc"
      },
      "execution_count": null,
      "outputs": [
        {
          "output_type": "execute_result",
          "data": {
            "text/plain": [
              "2.7027027027027027e-05"
            ]
          },
          "metadata": {},
          "execution_count": 81
        }
      ]
    },
    {
      "cell_type": "code",
      "source": [
        "1/(0.002/74)"
      ],
      "metadata": {
        "colab": {
          "base_uri": "https://localhost:8080/"
        },
        "id": "TEagk0wfE1e3",
        "outputId": "0ab7e358-f66b-4c3f-b55e-349e23dcfbb6"
      },
      "execution_count": null,
      "outputs": [
        {
          "output_type": "execute_result",
          "data": {
            "text/plain": [
              "37000.0"
            ]
          },
          "metadata": {},
          "execution_count": 82
        }
      ]
    },
    {
      "cell_type": "markdown",
      "metadata": {
        "id": "LkVxxlhl9H98"
      },
      "source": [
        "# Codeforces problem https://codeforces.com/contest/1619/problem/A \n",
        "\n",
        "Solve the problem in Colab, submit the solution to Codeforces and add a screenshoot of the submission."
      ]
    },
    {
      "cell_type": "markdown",
      "source": [
        "![image.png](data:image/png;base64,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)"
      ],
      "metadata": {
        "id": "VTb28rnOMjbT"
      }
    },
    {
      "cell_type": "markdown",
      "source": [
        "![image.png](data:image/png;base64,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)"
      ],
      "metadata": {
        "id": "bt5hdb1IyQkh"
      }
    },
    {
      "cell_type": "markdown",
      "source": [
        "The exercise was done through Python:"
      ],
      "metadata": {
        "id": "dyvZISYTMtMh"
      }
    },
    {
      "cell_type": "code",
      "source": [
        "def is_square(input_string):\n",
        "    for i in range(len(input_string) // 2):\n",
        "        if input_string[:i + 1] * 2 == input_string:\n",
        "            return \"YES\"\n",
        "    return \"NO\"\n",
        "\n",
        "# Read the number of test cases from the user\n",
        "num_tests = int(input())\n",
        "\n",
        "# Process each test case\n",
        "for _ in range(num_tests):\n",
        "    input_string = input()\n",
        "    print(is_square(input_string))\n"
      ],
      "metadata": {
        "colab": {
          "base_uri": "https://localhost:8080/"
        },
        "id": "AX0Ol2rvMyg5",
        "outputId": "5d715a29-68d6-48ba-f1c4-6b0e7ed694ee"
      },
      "execution_count": null,
      "outputs": [
        {
          "output_type": "stream",
          "name": "stdout",
          "text": [
            "10\n",
            "a\n",
            "NO\n",
            "aaa\n",
            "NO\n",
            "aaaa\n",
            "YES\n",
            "acac\n",
            "YES\n",
            "abab\n",
            "YES\n",
            "abcab\n",
            "NO\n",
            "xyxy\n",
            "YES\n",
            "xyyx\n",
            "NO\n",
            "xaxa\n",
            "YES\n",
            "axxa\n",
            "NO\n"
          ]
        }
      ]
    }
  ]
}
